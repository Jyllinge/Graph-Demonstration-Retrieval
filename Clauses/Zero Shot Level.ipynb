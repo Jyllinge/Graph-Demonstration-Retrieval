{
 "cells": [
  {
   "cell_type": "code",
   "execution_count": 1,
   "metadata": {},
   "outputs": [],
   "source": [
    "import pickle\n",
    "import pandas as pd\n",
    "import numpy as np\n",
    "import torch\n",
    "import transformers\n",
    "import bitsandbytes as bnb\n",
    "\n",
    "random_state = 1"
   ]
  },
  {
   "cell_type": "code",
   "execution_count": 2,
   "metadata": {},
   "outputs": [],
   "source": [
    "def euclid(list1, list2):\n",
    "    return sum((p-q)**2 for p, q in zip(list1, list2)) ** .5"
   ]
  },
  {
   "cell_type": "code",
   "execution_count": 3,
   "metadata": {},
   "outputs": [
    {
     "data": {
      "text/html": [
       "<div>\n",
       "<style scoped>\n",
       "    .dataframe tbody tr th:only-of-type {\n",
       "        vertical-align: middle;\n",
       "    }\n",
       "\n",
       "    .dataframe tbody tr th {\n",
       "        vertical-align: top;\n",
       "    }\n",
       "\n",
       "    .dataframe thead th {\n",
       "        text-align: right;\n",
       "    }\n",
       "</style>\n",
       "<table border=\"1\" class=\"dataframe\">\n",
       "  <thead>\n",
       "    <tr style=\"text-align: right;\">\n",
       "      <th></th>\n",
       "      <th>name</th>\n",
       "      <th>text</th>\n",
       "      <th>Level</th>\n",
       "      <th>document_name</th>\n",
       "      <th>Type</th>\n",
       "      <th>embeddings</th>\n",
       "    </tr>\n",
       "  </thead>\n",
       "  <tbody>\n",
       "    <tr>\n",
       "      <th>0</th>\n",
       "      <td>Category</td>\n",
       "      <td>ACCOUNT INFORMATION</td>\n",
       "      <td>None</td>\n",
       "      <td>Fitbit.txt</td>\n",
       "      <td>Closed</td>\n",
       "      <td>[1.376953125, -1.1220703125, 1.982421875, 1.12...</td>\n",
       "    </tr>\n",
       "    <tr>\n",
       "      <th>1</th>\n",
       "      <td>SubCategory</td>\n",
       "      <td>your name</td>\n",
       "      <td>None</td>\n",
       "      <td>Fitbit.txt</td>\n",
       "      <td>Closed</td>\n",
       "      <td>[0.276123046875, 0.7734375, 0.53076171875, 1.2...</td>\n",
       "    </tr>\n",
       "    <tr>\n",
       "      <th>2</th>\n",
       "      <td>SubCategory</td>\n",
       "      <td>email address</td>\n",
       "      <td>None</td>\n",
       "      <td>Fitbit.txt</td>\n",
       "      <td>Closed</td>\n",
       "      <td>[1.5146484375, -0.07098388671875, 0.3347167968...</td>\n",
       "    </tr>\n",
       "    <tr>\n",
       "      <th>3</th>\n",
       "      <td>SubCategory</td>\n",
       "      <td>password</td>\n",
       "      <td>None</td>\n",
       "      <td>Fitbit.txt</td>\n",
       "      <td>Closed</td>\n",
       "      <td>[0.436279296875, -0.021484375, 0.6201171875, -...</td>\n",
       "    </tr>\n",
       "    <tr>\n",
       "      <th>4</th>\n",
       "      <td>SubCategory</td>\n",
       "      <td>date of birth</td>\n",
       "      <td>None</td>\n",
       "      <td>Fitbit.txt</td>\n",
       "      <td>Closed</td>\n",
       "      <td>[0.5732421875, -1.681640625, -0.114990234375, ...</td>\n",
       "    </tr>\n",
       "    <tr>\n",
       "      <th>...</th>\n",
       "      <td>...</td>\n",
       "      <td>...</td>\n",
       "      <td>...</td>\n",
       "      <td>...</td>\n",
       "      <td>...</td>\n",
       "      <td>...</td>\n",
       "    </tr>\n",
       "    <tr>\n",
       "      <th>4113</th>\n",
       "      <td>Category</td>\n",
       "      <td>your contact information</td>\n",
       "      <td>None</td>\n",
       "      <td>Snapchat.txt</td>\n",
       "      <td>Closed</td>\n",
       "      <td>[1.708984375, -0.94384765625, 0.984375, 0.6762...</td>\n",
       "    </tr>\n",
       "    <tr>\n",
       "      <th>4114</th>\n",
       "      <td>SubCategory</td>\n",
       "      <td>information from third parties</td>\n",
       "      <td>None</td>\n",
       "      <td>Snapchat.txt</td>\n",
       "      <td>Open</td>\n",
       "      <td>[0.6962890625, -1.0859375, 0.611328125, 0.6069...</td>\n",
       "    </tr>\n",
       "    <tr>\n",
       "      <th>4115</th>\n",
       "      <td>cat</td>\n",
       "      <td>Or, if you provide us with your contact inform...</td>\n",
       "      <td>2</td>\n",
       "      <td>Snapchat.txt</td>\n",
       "      <td>None</td>\n",
       "      <td>[0.485107421875, -2.080078125, 0.92724609375, ...</td>\n",
       "    </tr>\n",
       "    <tr>\n",
       "      <th>4116</th>\n",
       "      <td>cat</td>\n",
       "      <td>Other Information, With Your Permission</td>\n",
       "      <td>2</td>\n",
       "      <td>Snapchat.txt</td>\n",
       "      <td>None</td>\n",
       "      <td>[0.6630859375, -1.1650390625, 0.44580078125, 1...</td>\n",
       "    </tr>\n",
       "    <tr>\n",
       "      <th>4117</th>\n",
       "      <td>cat</td>\n",
       "      <td>Additionally, there may be instances when you ...</td>\n",
       "      <td>2</td>\n",
       "      <td>Snapchat.txt</td>\n",
       "      <td>None</td>\n",
       "      <td>[0.82421875, -0.7568359375, -0.057342529296875...</td>\n",
       "    </tr>\n",
       "  </tbody>\n",
       "</table>\n",
       "<p>4118 rows × 6 columns</p>\n",
       "</div>"
      ],
      "text/plain": [
       "             name                                               text Level  \\\n",
       "0        Category                                ACCOUNT INFORMATION  None   \n",
       "1     SubCategory                                          your name  None   \n",
       "2     SubCategory                                      email address  None   \n",
       "3     SubCategory                                           password  None   \n",
       "4     SubCategory                                      date of birth  None   \n",
       "...           ...                                                ...   ...   \n",
       "4113     Category                           your contact information  None   \n",
       "4114  SubCategory                     information from third parties  None   \n",
       "4115          cat  Or, if you provide us with your contact inform...     2   \n",
       "4116          cat            Other Information, With Your Permission     2   \n",
       "4117          cat  Additionally, there may be instances when you ...     2   \n",
       "\n",
       "     document_name    Type                                         embeddings  \n",
       "0       Fitbit.txt  Closed  [1.376953125, -1.1220703125, 1.982421875, 1.12...  \n",
       "1       Fitbit.txt  Closed  [0.276123046875, 0.7734375, 0.53076171875, 1.2...  \n",
       "2       Fitbit.txt  Closed  [1.5146484375, -0.07098388671875, 0.3347167968...  \n",
       "3       Fitbit.txt  Closed  [0.436279296875, -0.021484375, 0.6201171875, -...  \n",
       "4       Fitbit.txt  Closed  [0.5732421875, -1.681640625, -0.114990234375, ...  \n",
       "...            ...     ...                                                ...  \n",
       "4113  Snapchat.txt  Closed  [1.708984375, -0.94384765625, 0.984375, 0.6762...  \n",
       "4114  Snapchat.txt    Open  [0.6962890625, -1.0859375, 0.611328125, 0.6069...  \n",
       "4115  Snapchat.txt    None  [0.485107421875, -2.080078125, 0.92724609375, ...  \n",
       "4116  Snapchat.txt    None  [0.6630859375, -1.1650390625, 0.44580078125, 1...  \n",
       "4117  Snapchat.txt    None  [0.82421875, -0.7568359375, -0.057342529296875...  \n",
       "\n",
       "[4118 rows x 6 columns]"
      ]
     },
     "execution_count": 3,
     "metadata": {},
     "output_type": "execute_result"
    }
   ],
   "source": [
    "with open('df_policies_embeddings.pkl', 'rb') as f:\n",
    "    df = pickle.load(f)\n",
    "df"
   ]
  },
  {
   "cell_type": "code",
   "execution_count": 4,
   "metadata": {},
   "outputs": [
    {
     "data": {
      "text/plain": [
       "['X_Twitter.txt',\n",
       " 'LinkedIn.txt',\n",
       " 'Zoom.txt',\n",
       " 'Fitbit.txt',\n",
       " 'Western Union.txt',\n",
       " 'Ubisoft.txt',\n",
       " 'Yahoo.txt',\n",
       " 'TikTok.txt',\n",
       " 'MySugr.txt',\n",
       " 'Deliveroo.txt',\n",
       " 'Paypal.txt',\n",
       " 'AdobePhotoshop.txt']"
      ]
     },
     "execution_count": 4,
     "metadata": {},
     "output_type": "execute_result"
    }
   ],
   "source": [
    "validation_set = ['X_Twitter.txt', 'LinkedIn.txt', 'Zoom.txt', 'Fitbit.txt', 'Western Union.txt', 'Ubisoft.txt']\n",
    "test_set =  ['Yahoo.txt', 'TikTok.txt', 'MySugr.txt', 'Deliveroo.txt', 'Paypal.txt', 'AdobePhotoshop.txt']\n",
    "nontrain_set = validation_set + test_set\n",
    "nontrain_set"
   ]
  },
  {
   "cell_type": "code",
   "execution_count": 5,
   "metadata": {},
   "outputs": [
    {
     "data": {
      "text/html": [
       "<div>\n",
       "<style scoped>\n",
       "    .dataframe tbody tr th:only-of-type {\n",
       "        vertical-align: middle;\n",
       "    }\n",
       "\n",
       "    .dataframe tbody tr th {\n",
       "        vertical-align: top;\n",
       "    }\n",
       "\n",
       "    .dataframe thead th {\n",
       "        text-align: right;\n",
       "    }\n",
       "</style>\n",
       "<table border=\"1\" class=\"dataframe\">\n",
       "  <thead>\n",
       "    <tr style=\"text-align: right;\">\n",
       "      <th></th>\n",
       "      <th>name</th>\n",
       "      <th>text</th>\n",
       "      <th>Level</th>\n",
       "      <th>document_name</th>\n",
       "      <th>Type</th>\n",
       "      <th>embeddings</th>\n",
       "    </tr>\n",
       "  </thead>\n",
       "  <tbody>\n",
       "    <tr>\n",
       "      <th>492</th>\n",
       "      <td>cat</td>\n",
       "      <td>We collect information that you provide when y...</td>\n",
       "      <td>1</td>\n",
       "      <td>TikTok.txt</td>\n",
       "      <td>None</td>\n",
       "      <td>[1.44921875, -0.89892578125, 1.8203125, 0.1143...</td>\n",
       "    </tr>\n",
       "    <tr>\n",
       "      <th>496</th>\n",
       "      <td>cat</td>\n",
       "      <td>User Content.</td>\n",
       "      <td>2</td>\n",
       "      <td>TikTok.txt</td>\n",
       "      <td>None</td>\n",
       "      <td>[0.123291015625, -1.8173828125, 1.369140625, 1...</td>\n",
       "    </tr>\n",
       "    <tr>\n",
       "      <th>498</th>\n",
       "      <td>cat</td>\n",
       "      <td>We collect the content you create or publish t...</td>\n",
       "      <td>2</td>\n",
       "      <td>TikTok.txt</td>\n",
       "      <td>None</td>\n",
       "      <td>[-0.5400390625, -1.1865234375, 2.10546875, 0.4...</td>\n",
       "    </tr>\n",
       "    <tr>\n",
       "      <th>508</th>\n",
       "      <td>cat</td>\n",
       "      <td>We also collect content (such as text, images,...</td>\n",
       "      <td>2</td>\n",
       "      <td>TikTok.txt</td>\n",
       "      <td>None</td>\n",
       "      <td>[-0.35302734375, -1.4091796875, 1.4365234375, ...</td>\n",
       "    </tr>\n",
       "    <tr>\n",
       "      <th>509</th>\n",
       "      <td>cat</td>\n",
       "      <td>In addition, we collect location information (...</td>\n",
       "      <td>1</td>\n",
       "      <td>TikTok.txt</td>\n",
       "      <td>None</td>\n",
       "      <td>[0.58251953125, -0.2344970703125, 2.423828125,...</td>\n",
       "    </tr>\n",
       "    <tr>\n",
       "      <th>...</th>\n",
       "      <td>...</td>\n",
       "      <td>...</td>\n",
       "      <td>...</td>\n",
       "      <td>...</td>\n",
       "      <td>...</td>\n",
       "      <td>...</td>\n",
       "    </tr>\n",
       "    <tr>\n",
       "      <th>3564</th>\n",
       "      <td>cat</td>\n",
       "      <td>Information about your imported contacts.</td>\n",
       "      <td>2</td>\n",
       "      <td>Paypal.txt</td>\n",
       "      <td>None</td>\n",
       "      <td>[0.5029296875, -1.8271484375, 0.68701171875, 1...</td>\n",
       "    </tr>\n",
       "    <tr>\n",
       "      <th>3575</th>\n",
       "      <td>cat</td>\n",
       "      <td>Information you disclose when you respond to s...</td>\n",
       "      <td>1</td>\n",
       "      <td>Paypal.txt</td>\n",
       "      <td>None</td>\n",
       "      <td>[0.62158203125, -2.248046875, 1.111328125, 0.2...</td>\n",
       "    </tr>\n",
       "    <tr>\n",
       "      <th>3577</th>\n",
       "      <td>cat</td>\n",
       "      <td>This may include information about others if y...</td>\n",
       "      <td>1</td>\n",
       "      <td>Paypal.txt</td>\n",
       "      <td>None</td>\n",
       "      <td>[0.7802734375, -1.66796875, -0.4091796875, 0.7...</td>\n",
       "    </tr>\n",
       "    <tr>\n",
       "      <th>3586</th>\n",
       "      <td>cat</td>\n",
       "      <td>For example, if you choose to participate in O...</td>\n",
       "      <td>2</td>\n",
       "      <td>Paypal.txt</td>\n",
       "      <td>None</td>\n",
       "      <td>[1.154296875, -0.71728515625, -0.791015625, 0....</td>\n",
       "    </tr>\n",
       "    <tr>\n",
       "      <th>3595</th>\n",
       "      <td>cat</td>\n",
       "      <td>This optional data is collected and processed ...</td>\n",
       "      <td>2</td>\n",
       "      <td>MySugr.txt</td>\n",
       "      <td>None</td>\n",
       "      <td>[1.1552734375, -1.6357421875, 1.333984375, -0....</td>\n",
       "    </tr>\n",
       "  </tbody>\n",
       "</table>\n",
       "<p>160 rows × 6 columns</p>\n",
       "</div>"
      ],
      "text/plain": [
       "     name                                               text Level  \\\n",
       "492   cat  We collect information that you provide when y...     1   \n",
       "496   cat                                      User Content.     2   \n",
       "498   cat  We collect the content you create or publish t...     2   \n",
       "508   cat  We also collect content (such as text, images,...     2   \n",
       "509   cat  In addition, we collect location information (...     1   \n",
       "...   ...                                                ...   ...   \n",
       "3564  cat          Information about your imported contacts.     2   \n",
       "3575  cat  Information you disclose when you respond to s...     1   \n",
       "3577  cat  This may include information about others if y...     1   \n",
       "3586  cat  For example, if you choose to participate in O...     2   \n",
       "3595  cat  This optional data is collected and processed ...     2   \n",
       "\n",
       "     document_name  Type                                         embeddings  \n",
       "492     TikTok.txt  None  [1.44921875, -0.89892578125, 1.8203125, 0.1143...  \n",
       "496     TikTok.txt  None  [0.123291015625, -1.8173828125, 1.369140625, 1...  \n",
       "498     TikTok.txt  None  [-0.5400390625, -1.1865234375, 2.10546875, 0.4...  \n",
       "508     TikTok.txt  None  [-0.35302734375, -1.4091796875, 1.4365234375, ...  \n",
       "509     TikTok.txt  None  [0.58251953125, -0.2344970703125, 2.423828125,...  \n",
       "...            ...   ...                                                ...  \n",
       "3564    Paypal.txt  None  [0.5029296875, -1.8271484375, 0.68701171875, 1...  \n",
       "3575    Paypal.txt  None  [0.62158203125, -2.248046875, 1.111328125, 0.2...  \n",
       "3577    Paypal.txt  None  [0.7802734375, -1.66796875, -0.4091796875, 0.7...  \n",
       "3586    Paypal.txt  None  [1.154296875, -0.71728515625, -0.791015625, 0....  \n",
       "3595    MySugr.txt  None  [1.1552734375, -1.6357421875, 1.333984375, -0....  \n",
       "\n",
       "[160 rows x 6 columns]"
      ]
     },
     "execution_count": 5,
     "metadata": {},
     "output_type": "execute_result"
    }
   ],
   "source": [
    "df_test = df[df.document_name.isin(test_set)]\n",
    "df_test = df_test.dropna(subset = ['Level'])\n",
    "df_test"
   ]
  },
  {
   "cell_type": "code",
   "execution_count": 6,
   "metadata": {},
   "outputs": [],
   "source": [
    "device = torch.device('cuda')\n",
    "model_id = \"meta-llama/Meta-Llama-3.1-8B-Instruct\""
   ]
  },
  {
   "cell_type": "code",
   "execution_count": 7,
   "metadata": {},
   "outputs": [
    {
     "data": {
      "application/vnd.jupyter.widget-view+json": {
       "model_id": "ce0335d5e5f241e59df4d131e0d9f97c",
       "version_major": 2,
       "version_minor": 0
      },
      "text/plain": [
       "Loading checkpoint shards:   0%|          | 0/4 [00:00<?, ?it/s]"
      ]
     },
     "metadata": {},
     "output_type": "display_data"
    },
    {
     "name": "stderr",
     "output_type": "stream",
     "text": [
      "Device set to use cuda:0\n"
     ]
    }
   ],
   "source": [
    "pipeline = transformers.pipeline(\n",
    "    \"text-generation\",\n",
    "    model=model_id,\n",
    "    model_kwargs={\"torch_dtype\": torch.bfloat16,\n",
    "                  \"quantization_config\": {\"load_in_4bit\": True}},\n",
    "    device_map=\"cuda:0\"\n",
    ")"
   ]
  },
  {
   "cell_type": "code",
   "execution_count": 8,
   "metadata": {},
   "outputs": [],
   "source": [
    "template = '''You will be given as input a sentence from a privacy policy that contains information about what data the service collects about the user. You have to classify the sentence into one of the following classes: \"sufficiently informative\" or \"insufficiently informative\".\n",
    "\n",
    "In doing so, consider that GDPR, and the EDPB's Guidelines, contain a certain inherent tension, namely that between requiring that the information is provided in as easy a way to understand as possible (comprehensibility) and that it is concrete and definitely (comprehensiveness).\n",
    "Sometimes, using open-ended qualifiers like “for example” or “such as” might actually facilitate understanding by the data subject, especially when terms not often used in the natural language (e.g. “device information” or “geolocation information”) are concerned. For this reason, we differentiate between:\n",
    "*\tAbstract terms (e.g. usage information) vs. concrete terms (e.g. geolocation information)\n",
    "*\tOpen-ended qualifications (“for example”, “such as”, etc.) vs. closed-catalogues (“meaning”, “understood as” ).\n",
    "\n",
    "A sentence containing an abstract term, UNLESS followed by a comprehensive enumeration, should be judged as \"insufficiently informative\".\n",
    "A sentence containing a concrete term, even if followed by an open-ended qualifier, should be judged as \"sufficiently informative\".\n",
    "\n",
    "Avoid explanations. Only reply with \"insufficiently informative\" or \"sufficiently informative\".'''"
   ]
  },
  {
   "cell_type": "code",
   "execution_count": 9,
   "metadata": {},
   "outputs": [],
   "source": [
    "def test(template, nexamples):\n",
    "\n",
    "    count = 0\n",
    "    LV1TP = 0\n",
    "    LV1FN = 0\n",
    "    LV1FP = 0\n",
    "    LV2TP = 0\n",
    "    LV2FN = 0\n",
    "    LV2FP = 0\n",
    "\n",
    "    for i in range(len(df_test)):\n",
    "\n",
    "        query = 'Text: '+ df_test.iloc[i]['text']+'\\n'+'label = '\n",
    "        \n",
    "        print('query:\\n'+ query,'\\n')\n",
    "\n",
    "        messages = [{'role': 'system', 'content': template},{\"role\": \"user\", \"content\": query}]\n",
    "\n",
    "        outputs = pipeline(\n",
    "            messages,\n",
    "            max_new_tokens=10,\n",
    "            do_sample = False\n",
    "        )\n",
    "        final_output = outputs[0]['generated_text'][-1]['content']\n",
    "        print('LLM output:', final_output)\n",
    "        if df_test.iloc[i]['Level'] == '1':\n",
    "            gt = 'sufficiently informative'\n",
    "        else:\n",
    "            gt = 'insufficiently informative'\n",
    "        print('ground truth:', gt)\n",
    "        print(200*'-')\n",
    "\n",
    "        if 'insufficiently' in final_output and df_test.iloc[i]['Level'] == '2':\n",
    "            LV2TP += 1\n",
    "        if 'insufficiently' in final_output and df_test.iloc[i]['Level'] == '1':\n",
    "            LV2FP += 1\n",
    "        if 'insufficiently' not in final_output and df_test.iloc[i]['Level'] == '2':\n",
    "            LV2FN += 1\n",
    "        \n",
    "        if  final_output == 'sufficiently informative' and df_test.iloc[i]['Level'] == '1':\n",
    "            LV1TP += 1\n",
    "        if final_output == 'sufficiently informative' and df_test.iloc[i]['Level'] == '2':\n",
    "            LV1FP += 1\n",
    "        if final_output != 'sufficiently informative' and df_test.iloc[i]['Level'] == '1':\n",
    "            LV1FN += 1\n",
    "\n",
    "    LV2PREC = LV2TP/(LV2TP+LV2FP)\n",
    "    LV2REC = LV2TP/(LV2TP+LV2FN)\n",
    "    LV1PREC = LV1TP/(LV1TP+LV1FP)\n",
    "    LV1REC = LV1TP/(LV1TP+LV1FN)\n",
    "\n",
    "    LV2F1 = 2/((1/LV2PREC)+(1/LV2REC))\n",
    "    LV1F1 = 2/((1/LV1PREC)+(1/LV1REC))\n",
    "\n",
    "    print('lv2 F1:', LV2F1)\n",
    "    print('lv1 F1:', LV1F1)\n",
    "\n",
    "    print('macro F1:', (LV2F1+LV1F1)/2 )\n",
    "            \n"
   ]
  },
  {
   "cell_type": "code",
   "execution_count": 10,
   "metadata": {},
   "outputs": [
    {
     "name": "stderr",
     "output_type": "stream",
     "text": [
      "C:\\Users\\alfio\\AppData\\Local\\Packages\\PythonSoftwareFoundation.Python.3.11_qbz5n2kfra8p0\\LocalCache\\local-packages\\Python311\\site-packages\\transformers\\generation\\configuration_utils.py:628: UserWarning: `do_sample` is set to `False`. However, `temperature` is set to `0.6` -- this flag is only used in sample-based generation modes. You should set `do_sample=True` or unset `temperature`.\n",
      "  warnings.warn(\n",
      "C:\\Users\\alfio\\AppData\\Local\\Packages\\PythonSoftwareFoundation.Python.3.11_qbz5n2kfra8p0\\LocalCache\\local-packages\\Python311\\site-packages\\transformers\\generation\\configuration_utils.py:633: UserWarning: `do_sample` is set to `False`. However, `top_p` is set to `0.9` -- this flag is only used in sample-based generation modes. You should set `do_sample=True` or unset `top_p`.\n",
      "  warnings.warn(\n",
      "Setting `pad_token_id` to `eos_token_id`:128001 for open-end generation.\n"
     ]
    },
    {
     "name": "stdout",
     "output_type": "stream",
     "text": [
      "query:\n",
      "Text: We collect information that you provide when you set up an account, such as your date of birth, username, email address and/or telephone number, and password.\n",
      "label =  \n",
      "\n"
     ]
    },
    {
     "name": "stderr",
     "output_type": "stream",
     "text": [
      "Setting `pad_token_id` to `eos_token_id`:128001 for open-end generation.\n"
     ]
    },
    {
     "name": "stdout",
     "output_type": "stream",
     "text": [
      "LLM output: sufficiently informative\n",
      "ground truth: sufficiently informative\n",
      "--------------------------------------------------------------------------------------------------------------------------------------------------------------------------------------------------------\n",
      "query:\n",
      "Text: User Content.\n",
      "label =  \n",
      "\n"
     ]
    },
    {
     "name": "stderr",
     "output_type": "stream",
     "text": [
      "Setting `pad_token_id` to `eos_token_id`:128001 for open-end generation.\n"
     ]
    },
    {
     "name": "stdout",
     "output_type": "stream",
     "text": [
      "LLM output: insufficiently informative\n",
      "ground truth: insufficiently informative\n",
      "--------------------------------------------------------------------------------------------------------------------------------------------------------------------------------------------------------\n",
      "query:\n",
      "Text: We collect the content you create or publish through the Platform, such as photographs, videos, audio recordings, livestreams, comments, hashtags, feedback, reviews, and the associated metadata (such as when, where, and by whom the content was created).\n",
      "label =  \n",
      "\n"
     ]
    },
    {
     "name": "stderr",
     "output_type": "stream",
     "text": [
      "Setting `pad_token_id` to `eos_token_id`:128001 for open-end generation.\n"
     ]
    },
    {
     "name": "stdout",
     "output_type": "stream",
     "text": [
      "LLM output: sufficiently informative\n",
      "ground truth: insufficiently informative\n",
      "--------------------------------------------------------------------------------------------------------------------------------------------------------------------------------------------------------\n",
      "query:\n",
      "Text: We also collect content (such as text, images, and video) from your device's clipboard if you choose to copy and paste content to or from the Platform or share content between it and a third party platform.\n",
      "label =  \n",
      "\n"
     ]
    },
    {
     "name": "stderr",
     "output_type": "stream",
     "text": [
      "Setting `pad_token_id` to `eos_token_id`:128001 for open-end generation.\n"
     ]
    },
    {
     "name": "stdout",
     "output_type": "stream",
     "text": [
      "LLM output: sufficiently informative\n",
      "ground truth: insufficiently informative\n",
      "--------------------------------------------------------------------------------------------------------------------------------------------------------------------------------------------------------\n",
      "query:\n",
      "Text: In addition, we collect location information (such as tourist attractions, shops, or other points of interest) if you choose to add the location information to your User Content.\n",
      "label =  \n",
      "\n"
     ]
    },
    {
     "name": "stderr",
     "output_type": "stream",
     "text": [
      "Setting `pad_token_id` to `eos_token_id`:128001 for open-end generation.\n"
     ]
    },
    {
     "name": "stdout",
     "output_type": "stream",
     "text": [
      "LLM output: sufficiently informative\n",
      "ground truth: sufficiently informative\n",
      "--------------------------------------------------------------------------------------------------------------------------------------------------------------------------------------------------------\n",
      "query:\n",
      "Text: Direct Messages.\n",
      "label =  \n",
      "\n"
     ]
    },
    {
     "name": "stderr",
     "output_type": "stream",
     "text": [
      "Setting `pad_token_id` to `eos_token_id`:128001 for open-end generation.\n"
     ]
    },
    {
     "name": "stdout",
     "output_type": "stream",
     "text": [
      "LLM output: insufficiently informative\n",
      "ground truth: insufficiently informative\n",
      "--------------------------------------------------------------------------------------------------------------------------------------------------------------------------------------------------------\n",
      "query:\n",
      "Text: If you communicate with others using direct messages, we collect the content of the message and the associated metadata (such as the time the message was sent, received and/or read, as well as the participants in the communication).\n",
      "label =  \n",
      "\n"
     ]
    },
    {
     "name": "stderr",
     "output_type": "stream",
     "text": [
      "Setting `pad_token_id` to `eos_token_id`:128001 for open-end generation.\n"
     ]
    },
    {
     "name": "stdout",
     "output_type": "stream",
     "text": [
      "LLM output: sufficiently informative\n",
      "ground truth: insufficiently informative\n",
      "--------------------------------------------------------------------------------------------------------------------------------------------------------------------------------------------------------\n",
      "query:\n",
      "Text: We also collect the messages you send or receive through our chat functionality when communicating with merchants who sell goods to you, and your use of virtual assistants when purchasing items through the Platform.\n",
      "label =  \n",
      "\n"
     ]
    },
    {
     "name": "stderr",
     "output_type": "stream",
     "text": [
      "Setting `pad_token_id` to `eos_token_id`:128001 for open-end generation.\n"
     ]
    },
    {
     "name": "stdout",
     "output_type": "stream",
     "text": [
      "LLM output: sufficiently informative\n",
      "ground truth: insufficiently informative\n",
      "--------------------------------------------------------------------------------------------------------------------------------------------------------------------------------------------------------\n",
      "query:\n",
      "Text: Your Contacts.\n",
      "label =  \n",
      "\n"
     ]
    },
    {
     "name": "stderr",
     "output_type": "stream",
     "text": [
      "Setting `pad_token_id` to `eos_token_id`:128001 for open-end generation.\n"
     ]
    },
    {
     "name": "stdout",
     "output_type": "stream",
     "text": [
      "LLM output: sufficiently informative\n",
      "ground truth: insufficiently informative\n",
      "--------------------------------------------------------------------------------------------------------------------------------------------------------------------------------------------------------\n",
      "query:\n",
      "Text: If you choose to sync your contacts, we will collect information from your device’s phone book such as names, phone numbers, and email addresses, and match that information to users of the Platform.\n",
      "label =  \n",
      "\n"
     ]
    },
    {
     "name": "stderr",
     "output_type": "stream",
     "text": [
      "You seem to be using the pipelines sequentially on GPU. In order to maximize efficiency please use a dataset\n",
      "Setting `pad_token_id` to `eos_token_id`:128001 for open-end generation.\n"
     ]
    },
    {
     "name": "stdout",
     "output_type": "stream",
     "text": [
      "LLM output: sufficiently informative\n",
      "ground truth: insufficiently informative\n",
      "--------------------------------------------------------------------------------------------------------------------------------------------------------------------------------------------------------\n",
      "query:\n",
      "Text: If you choose to find other users through your social network contacts, we will collect your public profile information as well as names and profiles of your social network contacts.\n",
      "label =  \n",
      "\n"
     ]
    },
    {
     "name": "stderr",
     "output_type": "stream",
     "text": [
      "Setting `pad_token_id` to `eos_token_id`:128001 for open-end generation.\n"
     ]
    },
    {
     "name": "stdout",
     "output_type": "stream",
     "text": [
      "LLM output: sufficiently informative\n",
      "ground truth: insufficiently informative\n",
      "--------------------------------------------------------------------------------------------------------------------------------------------------------------------------------------------------------\n",
      "query:\n",
      "Text: Purchase Information.\n",
      "label =  \n",
      "\n"
     ]
    },
    {
     "name": "stderr",
     "output_type": "stream",
     "text": [
      "Setting `pad_token_id` to `eos_token_id`:128001 for open-end generation.\n"
     ]
    },
    {
     "name": "stdout",
     "output_type": "stream",
     "text": [
      "LLM output: sufficiently informative\n",
      "ground truth: sufficiently informative\n",
      "--------------------------------------------------------------------------------------------------------------------------------------------------------------------------------------------------------\n",
      "query:\n",
      "Text: When you make a purchase or payment on or through the Platform, including when you buy TikTok Coins or purchase goods through our shopping features, we collect information about the purchase or payment transaction, such as payment card information, billing, delivery, and contact information, and items you purchased.\n",
      "label =  \n",
      "\n"
     ]
    },
    {
     "name": "stderr",
     "output_type": "stream",
     "text": [
      "Setting `pad_token_id` to `eos_token_id`:128001 for open-end generation.\n"
     ]
    },
    {
     "name": "stdout",
     "output_type": "stream",
     "text": [
      "LLM output: sufficiently informative\n",
      "ground truth: sufficiently informative\n",
      "--------------------------------------------------------------------------------------------------------------------------------------------------------------------------------------------------------\n",
      "query:\n",
      "Text: We collect Information You Provide if you choose to participate in a survey, research, promotion, contest, marketing campaign, or event conducted or sponsored by us.\n",
      "label =  \n",
      "\n"
     ]
    },
    {
     "name": "stderr",
     "output_type": "stream",
     "text": [
      "Setting `pad_token_id` to `eos_token_id`:128001 for open-end generation.\n"
     ]
    },
    {
     "name": "stdout",
     "output_type": "stream",
     "text": [
      "LLM output: sufficiently informative\n",
      "ground truth: insufficiently informative\n",
      "--------------------------------------------------------------------------------------------------------------------------------------------------------------------------------------------------------\n",
      "query:\n",
      "Text: Information When You Contact Us.\n",
      "label =  \n",
      "\n"
     ]
    },
    {
     "name": "stderr",
     "output_type": "stream",
     "text": [
      "Setting `pad_token_id` to `eos_token_id`:128001 for open-end generation.\n"
     ]
    },
    {
     "name": "stdout",
     "output_type": "stream",
     "text": [
      "LLM output: insufficiently informative\n",
      "ground truth: sufficiently informative\n",
      "--------------------------------------------------------------------------------------------------------------------------------------------------------------------------------------------------------\n",
      "query:\n",
      "Text: When you contact us, we collect the information you send us, such as proof of identity or age, feedback or inquiries about your use of the Platform or information about possible violations of our Terms of Service (our “Terms”), Community Guidelines (our “Guidelines”), or other policies.\n",
      "label =  \n",
      "\n"
     ]
    },
    {
     "name": "stderr",
     "output_type": "stream",
     "text": [
      "Setting `pad_token_id` to `eos_token_id`:128001 for open-end generation.\n"
     ]
    },
    {
     "name": "stdout",
     "output_type": "stream",
     "text": [
      "LLM output: sufficiently informative\n",
      "ground truth: sufficiently informative\n",
      "--------------------------------------------------------------------------------------------------------------------------------------------------------------------------------------------------------\n",
      "query:\n",
      "Text: Information From Forms and Features You Use.\n",
      "label =  \n",
      "\n"
     ]
    },
    {
     "name": "stderr",
     "output_type": "stream",
     "text": [
      "Setting `pad_token_id` to `eos_token_id`:128001 for open-end generation.\n"
     ]
    },
    {
     "name": "stdout",
     "output_type": "stream",
     "text": [
      "LLM output: sufficiently informative\n",
      "ground truth: insufficiently informative\n",
      "--------------------------------------------------------------------------------------------------------------------------------------------------------------------------------------------------------\n",
      "query:\n",
      "Text: Location Information.\n",
      "label =  \n",
      "\n"
     ]
    },
    {
     "name": "stderr",
     "output_type": "stream",
     "text": [
      "Setting `pad_token_id` to `eos_token_id`:128001 for open-end generation.\n"
     ]
    },
    {
     "name": "stdout",
     "output_type": "stream",
     "text": [
      "LLM output: sufficiently informative\n",
      "ground truth: sufficiently informative\n",
      "--------------------------------------------------------------------------------------------------------------------------------------------------------------------------------------------------------\n",
      "query:\n",
      "Text: Usage Information.\n",
      "label =  \n",
      "\n"
     ]
    },
    {
     "name": "stderr",
     "output_type": "stream",
     "text": [
      "Setting `pad_token_id` to `eos_token_id`:128001 for open-end generation.\n"
     ]
    },
    {
     "name": "stdout",
     "output_type": "stream",
     "text": [
      "LLM output: insufficiently informative\n",
      "ground truth: insufficiently informative\n",
      "--------------------------------------------------------------------------------------------------------------------------------------------------------------------------------------------------------\n",
      "query:\n",
      "Text: We automatically collect information about your approximate location (e.g. country, state, or city) based on your Technical Information (such as SIM card and IP address).\n",
      "label =  \n",
      "\n"
     ]
    },
    {
     "name": "stderr",
     "output_type": "stream",
     "text": [
      "Setting `pad_token_id` to `eos_token_id`:128001 for open-end generation.\n"
     ]
    },
    {
     "name": "stdout",
     "output_type": "stream",
     "text": [
      "LLM output: sufficiently informative\n",
      "ground truth: sufficiently informative\n",
      "--------------------------------------------------------------------------------------------------------------------------------------------------------------------------------------------------------\n",
      "query:\n",
      "Text: Also, where you enable location services for the TikTok app within your device settings, we collect approximate location information from your device.\n",
      "label =  \n",
      "\n"
     ]
    },
    {
     "name": "stderr",
     "output_type": "stream",
     "text": [
      "Setting `pad_token_id` to `eos_token_id`:128001 for open-end generation.\n"
     ]
    },
    {
     "name": "stdout",
     "output_type": "stream",
     "text": [
      "LLM output: sufficiently informative\n",
      "ground truth: sufficiently informative\n",
      "--------------------------------------------------------------------------------------------------------------------------------------------------------------------------------------------------------\n",
      "query:\n",
      "Text: We collect information about how you engage with the Platform, including information about the content you view, the duration and frequency of your use, your engagement with other users, your search history and your settings.\n",
      "label =  \n",
      "\n"
     ]
    },
    {
     "name": "stderr",
     "output_type": "stream",
     "text": [
      "Setting `pad_token_id` to `eos_token_id`:128001 for open-end generation.\n"
     ]
    },
    {
     "name": "stdout",
     "output_type": "stream",
     "text": [
      "LLM output: sufficiently informative\n",
      "ground truth: insufficiently informative\n",
      "--------------------------------------------------------------------------------------------------------------------------------------------------------------------------------------------------------\n",
      "query:\n",
      "Text: We detect and collect characteristics and features about the videos, images, and audio recordings that are part of your User Content, for example, by identifying objects and scenery, the existence or location within an image of a face or other body parts; and the text of words spoken in your User Content.\n",
      "label =  \n",
      "\n"
     ]
    },
    {
     "name": "stderr",
     "output_type": "stream",
     "text": [
      "Setting `pad_token_id` to `eos_token_id`:128001 for open-end generation.\n"
     ]
    },
    {
     "name": "stdout",
     "output_type": "stream",
     "text": [
      "LLM output: sufficiently informative\n",
      "ground truth: insufficiently informative\n",
      "--------------------------------------------------------------------------------------------------------------------------------------------------------------------------------------------------------\n",
      "query:\n",
      "Text: Inferred Information.\n",
      "label =  \n",
      "\n"
     ]
    },
    {
     "name": "stderr",
     "output_type": "stream",
     "text": [
      "Setting `pad_token_id` to `eos_token_id`:128001 for open-end generation.\n"
     ]
    },
    {
     "name": "stdout",
     "output_type": "stream",
     "text": [
      "LLM output: insufficiently informative\n",
      "ground truth: insufficiently informative\n",
      "--------------------------------------------------------------------------------------------------------------------------------------------------------------------------------------------------------\n",
      "query:\n",
      "Text: We infer your attributes (such as age-range and gender) and interests based on the information we have about you.\n",
      "label =  \n",
      "\n"
     ]
    },
    {
     "name": "stderr",
     "output_type": "stream",
     "text": [
      "Setting `pad_token_id` to `eos_token_id`:128001 for open-end generation.\n"
     ]
    },
    {
     "name": "stdout",
     "output_type": "stream",
     "text": [
      "LLM output: sufficiently informative\n",
      "ground truth: insufficiently informative\n",
      "--------------------------------------------------------------------------------------------------------------------------------------------------------------------------------------------------------\n",
      "query:\n",
      "Text: Third party platforms provide us with information (such as your email address, user ID, and public profile) when you choose to sign up for or log in to the Platform using sign-in features provided by those third parties.\n",
      "label =  \n",
      "\n"
     ]
    },
    {
     "name": "stderr",
     "output_type": "stream",
     "text": [
      "Setting `pad_token_id` to `eos_token_id`:128001 for open-end generation.\n"
     ]
    },
    {
     "name": "stdout",
     "output_type": "stream",
     "text": [
      "LLM output: sufficiently informative\n",
      "ground truth: insufficiently informative\n",
      "--------------------------------------------------------------------------------------------------------------------------------------------------------------------------------------------------------\n",
      "query:\n",
      "Text: You can add other information to your profile, such as a bio or a profile photo.\n",
      "label =  \n",
      "\n"
     ]
    },
    {
     "name": "stderr",
     "output_type": "stream",
     "text": [
      "Setting `pad_token_id` to `eos_token_id`:128001 for open-end generation.\n"
     ]
    },
    {
     "name": "stdout",
     "output_type": "stream",
     "text": [
      "LLM output: sufficiently informative\n",
      "ground truth: insufficiently informative\n",
      "--------------------------------------------------------------------------------------------------------------------------------------------------------------------------------------------------------\n",
      "query:\n",
      "Text: Automatically Collected Information\n",
      "Technical Information.\n",
      "label =  \n",
      "\n"
     ]
    },
    {
     "name": "stderr",
     "output_type": "stream",
     "text": [
      "Setting `pad_token_id` to `eos_token_id`:128001 for open-end generation.\n"
     ]
    },
    {
     "name": "stdout",
     "output_type": "stream",
     "text": [
      "LLM output: insufficiently informative\n",
      "ground truth: insufficiently informative\n",
      "--------------------------------------------------------------------------------------------------------------------------------------------------------------------------------------------------------\n",
      "query:\n",
      "Text: This information includes your device model, operating system, keystroke patterns or rhythms, IP address, and system language.\n",
      "label =  \n",
      "\n"
     ]
    },
    {
     "name": "stderr",
     "output_type": "stream",
     "text": [
      "Setting `pad_token_id` to `eos_token_id`:128001 for open-end generation.\n"
     ]
    },
    {
     "name": "stdout",
     "output_type": "stream",
     "text": [
      "LLM output: sufficiently informative\n",
      "ground truth: insufficiently informative\n",
      "--------------------------------------------------------------------------------------------------------------------------------------------------------------------------------------------------------\n",
      "query:\n",
      "Text: Advertisers, measurement and other partners share information with us about you and the actions you have taken outside of the Platform, such as your activities on other websites and apps or in stores, including the products or services you purchased, online or in person.\n",
      "label =  \n",
      "\n"
     ]
    },
    {
     "name": "stderr",
     "output_type": "stream",
     "text": [
      "Setting `pad_token_id` to `eos_token_id`:128001 for open-end generation.\n"
     ]
    },
    {
     "name": "stdout",
     "output_type": "stream",
     "text": [
      "LLM output: sufficiently informative\n",
      "ground truth: insufficiently informative\n",
      "--------------------------------------------------------------------------------------------------------------------------------------------------------------------------------------------------------\n",
      "query:\n",
      "Text: These partners also share information with us, such as mobile identifiers for advertising, hashed email addresses and phone numbers, and cookie identifiers, which we use to help match you and your actions outside of the Platform with your TikTok account.\n",
      "label =  \n",
      "\n"
     ]
    },
    {
     "name": "stderr",
     "output_type": "stream",
     "text": [
      "Setting `pad_token_id` to `eos_token_id`:128001 for open-end generation.\n"
     ]
    },
    {
     "name": "stdout",
     "output_type": "stream",
     "text": [
      "LLM output: sufficiently informative\n",
      "ground truth: insufficiently informative\n",
      "--------------------------------------------------------------------------------------------------------------------------------------------------------------------------------------------------------\n",
      "query:\n",
      "Text: We collect certain device and network connection information when you access the Platform.\n",
      "label =  \n",
      "\n"
     ]
    },
    {
     "name": "stderr",
     "output_type": "stream",
     "text": [
      "Setting `pad_token_id` to `eos_token_id`:128001 for open-end generation.\n"
     ]
    },
    {
     "name": "stdout",
     "output_type": "stream",
     "text": [
      "LLM output: sufficiently informative\n",
      "ground truth: insufficiently informative\n",
      "--------------------------------------------------------------------------------------------------------------------------------------------------------------------------------------------------------\n",
      "query:\n",
      "Text: Some of our advertisers and other partners enable us to collect similar information directly from their website or app by integrating our TikTok Advertiser Tools (such as TikTok Pixel).\n",
      "label =  \n",
      "\n"
     ]
    },
    {
     "name": "stderr",
     "output_type": "stream",
     "text": [
      "Setting `pad_token_id` to `eos_token_id`:128001 for open-end generation.\n"
     ]
    },
    {
     "name": "stdout",
     "output_type": "stream",
     "text": [
      "LLM output: sufficiently informative\n",
      "ground truth: insufficiently informative\n",
      "--------------------------------------------------------------------------------------------------------------------------------------------------------------------------------------------------------\n",
      "query:\n",
      "Text: We may also receive contact information that you hold or is held about you when contact information is synced with our Platform by you or another user\n",
      "label =  \n",
      "\n"
     ]
    },
    {
     "name": "stderr",
     "output_type": "stream",
     "text": [
      "Setting `pad_token_id` to `eos_token_id`:128001 for open-end generation.\n"
     ]
    },
    {
     "name": "stdout",
     "output_type": "stream",
     "text": [
      "LLM output: sufficiently informative\n",
      "ground truth: insufficiently informative\n",
      "--------------------------------------------------------------------------------------------------------------------------------------------------------------------------------------------------------\n",
      "query:\n",
      "Text: To create a user account we require, collect and process the following User Data:\n",
      "\n",
      "Email address\n",
      "Password (which we store cryptographically secure)\n",
      "Account ID (which we generate during account creation)\n",
      "Registration date\n",
      "Status of consents\n",
      "Device ID, manufacturer, device type, operating system version of your mobile device\n",
      "Language, country, time zone\n",
      "IP address.\n",
      "label =  \n",
      "\n"
     ]
    },
    {
     "name": "stderr",
     "output_type": "stream",
     "text": [
      "Setting `pad_token_id` to `eos_token_id`:128001 for open-end generation.\n"
     ]
    },
    {
     "name": "stdout",
     "output_type": "stream",
     "text": [
      "LLM output: sufficiently informative\n",
      "ground truth: sufficiently informative\n",
      "--------------------------------------------------------------------------------------------------------------------------------------------------------------------------------------------------------\n",
      "query:\n",
      "Text: This includes processing individual user information, such as your location, diabetes type or type of therapy, for instance to configure the user interface.\n",
      "label =  \n",
      "\n"
     ]
    },
    {
     "name": "stderr",
     "output_type": "stream",
     "text": [
      "Setting `pad_token_id` to `eos_token_id`:128001 for open-end generation.\n"
     ]
    },
    {
     "name": "stdout",
     "output_type": "stream",
     "text": [
      "LLM output: sufficiently informative\n",
      "ground truth: insufficiently informative\n",
      "--------------------------------------------------------------------------------------------------------------------------------------------------------------------------------------------------------\n",
      "query:\n",
      "Text: When you install and use our app, we also collect information on the device you are using and generate crash and bug reports if required.\n",
      "label =  \n",
      "\n"
     ]
    },
    {
     "name": "stderr",
     "output_type": "stream",
     "text": [
      "Setting `pad_token_id` to `eos_token_id`:128001 for open-end generation.\n"
     ]
    },
    {
     "name": "stdout",
     "output_type": "stream",
     "text": [
      "LLM output: sufficiently informative\n",
      "ground truth: insufficiently informative\n",
      "--------------------------------------------------------------------------------------------------------------------------------------------------------------------------------------------------------\n",
      "query:\n",
      "Text: We also process your IP address to assess from which country or region you are using our services and to provide you with the features and information which is relevant in your country.\n",
      "label =  \n",
      "\n"
     ]
    },
    {
     "name": "stderr",
     "output_type": "stream",
     "text": [
      "Setting `pad_token_id` to `eos_token_id`:128001 for open-end generation.\n"
     ]
    },
    {
     "name": "stdout",
     "output_type": "stream",
     "text": [
      "LLM output: sufficiently informative\n",
      "ground truth: sufficiently informative\n",
      "--------------------------------------------------------------------------------------------------------------------------------------------------------------------------------------------------------\n",
      "query:\n",
      "Text: Those optional User Data and their collection purposes are:\n",
      "\n",
      "General Data\n",
      "label =  \n",
      "\n"
     ]
    },
    {
     "name": "stderr",
     "output_type": "stream",
     "text": [
      "Setting `pad_token_id` to `eos_token_id`:128001 for open-end generation.\n"
     ]
    },
    {
     "name": "stdout",
     "output_type": "stream",
     "text": [
      "LLM output: insufficiently informative\n",
      "ground truth: insufficiently informative\n",
      "--------------------------------------------------------------------------------------------------------------------------------------------------------------------------------------------------------\n",
      "query:\n",
      "Text: It includes:\n",
      "\n",
      "First Name\n",
      "Last Name\n",
      "Address\n",
      "Date of Birth\n",
      "Sex\n",
      "Telephone Number.\n",
      "label =  \n",
      "\n"
     ]
    },
    {
     "name": "stderr",
     "output_type": "stream",
     "text": [
      "Setting `pad_token_id` to `eos_token_id`:128001 for open-end generation.\n"
     ]
    },
    {
     "name": "stdout",
     "output_type": "stream",
     "text": [
      "LLM output: sufficiently informative\n",
      "ground truth: sufficiently informative\n",
      "--------------------------------------------------------------------------------------------------------------------------------------------------------------------------------------------------------\n",
      "query:\n",
      "Text: It includes:\n",
      "\n",
      "Diabetes Type\n",
      "Diagnosis Year\n",
      "Insulin Therapy Type (Pen / Pump)\n",
      "Blood Glucose Target Range\n",
      "Body Height\n",
      "Body Weight\n",
      "Blood Glucose Meter / Therapy Device\n",
      "Medication\n",
      "Type of Insulin\n",
      "Basal Settings\n",
      "Correction Factors\n",
      "Carbs / Insulin Ratio.\n",
      "label =  \n",
      "\n"
     ]
    },
    {
     "name": "stderr",
     "output_type": "stream",
     "text": [
      "Setting `pad_token_id` to `eos_token_id`:128001 for open-end generation.\n"
     ]
    },
    {
     "name": "stdout",
     "output_type": "stream",
     "text": [
      "LLM output: sufficiently informative\n",
      "ground truth: insufficiently informative\n",
      "--------------------------------------------------------------------------------------------------------------------------------------------------------------------------------------------------------\n",
      "query:\n",
      "Text: It includes:\n",
      "\n",
      "App Store Download Information\n",
      "Purchases\n",
      "Invoices\n",
      "Payment Status\n",
      "Payment Method (Credit Card, Bank Account etc.)\n",
      "Social Insurance Number\n",
      "mySugr Pro Status\n",
      "Vouchers Redeemed\n",
      "Browser Type and Version\n",
      "Authentication Token\n",
      "Activity Events for Customization\n",
      "Support Queries.\n",
      "label =  \n",
      "\n"
     ]
    },
    {
     "name": "stderr",
     "output_type": "stream",
     "text": [
      "Setting `pad_token_id` to `eos_token_id`:128001 for open-end generation.\n"
     ]
    },
    {
     "name": "stdout",
     "output_type": "stream",
     "text": [
      "LLM output: sufficiently informative\n",
      "ground truth: insufficiently informative\n",
      "--------------------------------------------------------------------------------------------------------------------------------------------------------------------------------------------------------\n",
      "query:\n",
      "Text: It includes:\n",
      "\n",
      "Date, Time, Time Zone, Place, Type and Duration of Physical Activities\n",
      "Food Intake / Meal / Ingredients\n",
      "Pills taken / Injections\n",
      "Blood Glucose Measurements\n",
      "Notes\n",
      "Blood Pressure\n",
      "Body Weight\n",
      "HbA1c\n",
      "Ketones\n",
      "Steps\n",
      "Images / Photos\n",
      "Medication\n",
      "Tags\n",
      "Values imported from 3rd Party Apps\n",
      "Sensor data, such as start date/time, end date/time, time zone, sensor value, sensor type\n",
      "Temporary basal rate and date\n",
      "App settings such as display options, activated integrations\n",
      "Coaching data such as status, targets, other illnesses.\n",
      "label =  \n",
      "\n"
     ]
    },
    {
     "name": "stderr",
     "output_type": "stream",
     "text": [
      "Setting `pad_token_id` to `eos_token_id`:128001 for open-end generation.\n"
     ]
    },
    {
     "name": "stdout",
     "output_type": "stream",
     "text": [
      "LLM output: sufficiently informative\n",
      "ground truth: insufficiently informative\n",
      "--------------------------------------------------------------------------------------------------------------------------------------------------------------------------------------------------------\n",
      "query:\n",
      "Text: We record key data of your device and your usage behavior as our contractual fulfilment, as well as to customize our products.\n",
      "label =  \n",
      "\n"
     ]
    },
    {
     "name": "stderr",
     "output_type": "stream",
     "text": [
      "Setting `pad_token_id` to `eos_token_id`:128001 for open-end generation.\n"
     ]
    },
    {
     "name": "stdout",
     "output_type": "stream",
     "text": [
      "LLM output: insufficiently informative\n",
      "ground truth: insufficiently informative\n",
      "--------------------------------------------------------------------------------------------------------------------------------------------------------------------------------------------------------\n",
      "query:\n",
      "Text: Any other User Data which is collected and processed while you use our services is optionally provided by you when using certain functions of our applications.\n",
      "label =  \n",
      "\n"
     ]
    },
    {
     "name": "stderr",
     "output_type": "stream",
     "text": [
      "Setting `pad_token_id` to `eos_token_id`:128001 for open-end generation.\n"
     ]
    },
    {
     "name": "stdout",
     "output_type": "stream",
     "text": [
      "LLM output: insufficiently informative\n",
      "ground truth: insufficiently informative\n",
      "--------------------------------------------------------------------------------------------------------------------------------------------------------------------------------------------------------\n",
      "query:\n",
      "Text: Medical Master Data\n",
      "label =  \n",
      "\n"
     ]
    },
    {
     "name": "stderr",
     "output_type": "stream",
     "text": [
      "Setting `pad_token_id` to `eos_token_id`:128001 for open-end generation.\n"
     ]
    },
    {
     "name": "stdout",
     "output_type": "stream",
     "text": [
      "LLM output: sufficiently informative\n",
      "ground truth: insufficiently informative\n",
      "--------------------------------------------------------------------------------------------------------------------------------------------------------------------------------------------------------\n",
      "query:\n",
      "Text: Commercial and Usage Data\n",
      "label =  \n",
      "\n"
     ]
    },
    {
     "name": "stderr",
     "output_type": "stream",
     "text": [
      "Setting `pad_token_id` to `eos_token_id`:128001 for open-end generation.\n"
     ]
    },
    {
     "name": "stdout",
     "output_type": "stream",
     "text": [
      "LLM output: sufficiently informative\n",
      "ground truth: insufficiently informative\n",
      "--------------------------------------------------------------------------------------------------------------------------------------------------------------------------------------------------------\n",
      "query:\n",
      "Text: Medical Data\n",
      "label =  \n",
      "\n"
     ]
    },
    {
     "name": "stderr",
     "output_type": "stream",
     "text": [
      "Setting `pad_token_id` to `eos_token_id`:128001 for open-end generation.\n"
     ]
    },
    {
     "name": "stdout",
     "output_type": "stream",
     "text": [
      "LLM output: sufficiently informative\n",
      "ground truth: insufficiently informative\n",
      "--------------------------------------------------------------------------------------------------------------------------------------------------------------------------------------------------------\n",
      "query:\n",
      "Text: In addition, mySugr may also record the following User Data:\n",
      "\n",
      "Usage Data - We record Activity Events, not necessarily related to the delivery of our services, which allow us to understand how you use our products.\n",
      "label =  \n",
      "\n"
     ]
    },
    {
     "name": "stderr",
     "output_type": "stream",
     "text": [
      "Setting `pad_token_id` to `eos_token_id`:128001 for open-end generation.\n"
     ]
    },
    {
     "name": "stdout",
     "output_type": "stream",
     "text": [
      "LLM output: insufficiently informative\n",
      "ground truth: insufficiently informative\n",
      "--------------------------------------------------------------------------------------------------------------------------------------------------------------------------------------------------------\n",
      "query:\n",
      "Text: Additional data\n",
      "label =  \n",
      "\n"
     ]
    },
    {
     "name": "stderr",
     "output_type": "stream",
     "text": [
      "Setting `pad_token_id` to `eos_token_id`:128001 for open-end generation.\n"
     ]
    },
    {
     "name": "stdout",
     "output_type": "stream",
     "text": [
      "LLM output: insufficiently informative\n",
      "ground truth: insufficiently informative\n",
      "--------------------------------------------------------------------------------------------------------------------------------------------------------------------------------------------------------\n",
      "query:\n",
      "Text: Yahoo analyzes and stores all communications content, including email content from incoming and outgoing mail.\n",
      "label =  \n",
      "\n"
     ]
    },
    {
     "name": "stderr",
     "output_type": "stream",
     "text": [
      "Setting `pad_token_id` to `eos_token_id`:128001 for open-end generation.\n"
     ]
    },
    {
     "name": "stdout",
     "output_type": "stream",
     "text": [
      "LLM output: sufficiently informative\n",
      "ground truth: insufficiently informative\n",
      "--------------------------------------------------------------------------------------------------------------------------------------------------------------------------------------------------------\n",
      "query:\n",
      "Text: Yahoo may use device IDs, cookies, and other signals, including information obtained from third parties, to associate accounts and/or devices with you.\n",
      "label =  \n",
      "\n"
     ]
    },
    {
     "name": "stderr",
     "output_type": "stream",
     "text": [
      "Setting `pad_token_id` to `eos_token_id`:128001 for open-end generation.\n"
     ]
    },
    {
     "name": "stdout",
     "output_type": "stream",
     "text": [
      "LLM output: sufficiently informative\n",
      "ground truth: insufficiently informative\n",
      "--------------------------------------------------------------------------------------------------------------------------------------------------------------------------------------------------------\n",
      "query:\n",
      "Text: When you otherwise use our Services, such as title queries, watch history, page views, search queries, view the content we make available or install any Yahoo software such as plugins.\n",
      "label =  \n",
      "\n"
     ]
    },
    {
     "name": "stderr",
     "output_type": "stream",
     "text": [
      "Setting `pad_token_id` to `eos_token_id`:128001 for open-end generation.\n"
     ]
    },
    {
     "name": "stdout",
     "output_type": "stream",
     "text": [
      "LLM output: sufficiently informative\n",
      "ground truth: insufficiently informative\n",
      "--------------------------------------------------------------------------------------------------------------------------------------------------------------------------------------------------------\n",
      "query:\n",
      "Text: Device Information.\n",
      "label =  \n",
      "\n"
     ]
    },
    {
     "name": "stderr",
     "output_type": "stream",
     "text": [
      "Setting `pad_token_id` to `eos_token_id`:128001 for open-end generation.\n"
     ]
    },
    {
     "name": "stdout",
     "output_type": "stream",
     "text": [
      "LLM output: sufficiently informative\n",
      "ground truth: insufficiently informative\n",
      "--------------------------------------------------------------------------------------------------------------------------------------------------------------------------------------------------------\n",
      "query:\n",
      "Text: We collect information from your devices (computers, mobile phones, tablets, etc.), including information about how you interact with our Services and those of our third-party partners and information that allows us to recognize and associate your activity across devices and Services.\n",
      "label =  \n",
      "\n"
     ]
    },
    {
     "name": "stderr",
     "output_type": "stream",
     "text": [
      "Setting `pad_token_id` to `eos_token_id`:128001 for open-end generation.\n"
     ]
    },
    {
     "name": "stdout",
     "output_type": "stream",
     "text": [
      "LLM output: sufficiently informative\n",
      "ground truth: insufficiently informative\n",
      "--------------------------------------------------------------------------------------------------------------------------------------------------------------------------------------------------------\n",
      "query:\n",
      "Text: This information includes device specific identifiers and information such as IP address, cookie information, mobile device and advertising identifiers, browser version, operating system type and version, mobile network information, device settings, and software data.\n",
      "label =  \n",
      "\n"
     ]
    },
    {
     "name": "stderr",
     "output_type": "stream",
     "text": [
      "Setting `pad_token_id` to `eos_token_id`:128001 for open-end generation.\n"
     ]
    },
    {
     "name": "stdout",
     "output_type": "stream",
     "text": [
      "LLM output: sufficiently informative\n",
      "ground truth: insufficiently informative\n",
      "--------------------------------------------------------------------------------------------------------------------------------------------------------------------------------------------------------\n",
      "query:\n",
      "Text: Location Information.\n",
      "label =  \n",
      "\n"
     ]
    },
    {
     "name": "stderr",
     "output_type": "stream",
     "text": [
      "Setting `pad_token_id` to `eos_token_id`:128001 for open-end generation.\n"
     ]
    },
    {
     "name": "stdout",
     "output_type": "stream",
     "text": [
      "LLM output: sufficiently informative\n",
      "ground truth: sufficiently informative\n",
      "--------------------------------------------------------------------------------------------------------------------------------------------------------------------------------------------------------\n",
      "query:\n",
      "Text: Information from Cookies and Other Technologies.\n",
      "label =  \n",
      "\n"
     ]
    },
    {
     "name": "stderr",
     "output_type": "stream",
     "text": [
      "Setting `pad_token_id` to `eos_token_id`:128001 for open-end generation.\n"
     ]
    },
    {
     "name": "stdout",
     "output_type": "stream",
     "text": [
      "LLM output: insufficiently informative\n",
      "ground truth: insufficiently informative\n",
      "--------------------------------------------------------------------------------------------------------------------------------------------------------------------------------------------------------\n",
      "query:\n",
      "Text: Information from Others.\n",
      "label =  \n",
      "\n"
     ]
    },
    {
     "name": "stderr",
     "output_type": "stream",
     "text": [
      "Setting `pad_token_id` to `eos_token_id`:128001 for open-end generation.\n"
     ]
    },
    {
     "name": "stdout",
     "output_type": "stream",
     "text": [
      "LLM output: insufficiently informative\n",
      "ground truth: insufficiently informative\n",
      "--------------------------------------------------------------------------------------------------------------------------------------------------------------------------------------------------------\n",
      "query:\n",
      "Text: We collect information when you access content, advertising, sites, interactive widgets, applications, and other products (both on and off of our Services) where Yahoo data collection technologies (such as web beacons, development tools, cookies and other technologies, etc.) are present.\n",
      "label =  \n",
      "\n"
     ]
    },
    {
     "name": "stderr",
     "output_type": "stream",
     "text": [
      "Setting `pad_token_id` to `eos_token_id`:128001 for open-end generation.\n"
     ]
    },
    {
     "name": "stdout",
     "output_type": "stream",
     "text": [
      "LLM output: sufficiently informative\n",
      "ground truth: insufficiently informative\n",
      "--------------------------------------------------------------------------------------------------------------------------------------------------------------------------------------------------------\n",
      "query:\n",
      "Text: This information also includes the kind of content or ads served, viewed or clicked on; the frequency and duration of your activities; the sites or apps you used before accessing our Services and where you went next; whether you engaged with specific content or ads; and whether you went on to visit an advertiser's website, downloaded an advertiser’s app, purchased a product or service advertised, or took other actions.\n",
      "label =  \n",
      "\n"
     ]
    },
    {
     "name": "stderr",
     "output_type": "stream",
     "text": [
      "Setting `pad_token_id` to `eos_token_id`:128001 for open-end generation.\n"
     ]
    },
    {
     "name": "stdout",
     "output_type": "stream",
     "text": [
      "LLM output: sufficiently informative\n",
      "ground truth: insufficiently informative\n",
      "--------------------------------------------------------------------------------------------------------------------------------------------------------------------------------------------------------\n",
      "query:\n",
      "Text: We collect information about you when we receive it from other users, third-parties, and affiliates, such as: \n",
      "\n",
      "When you connect your account to third-party services or sign in using a third-party partner (like Facebook or Twitter).\n",
      "label =  \n",
      "\n"
     ]
    },
    {
     "name": "stderr",
     "output_type": "stream",
     "text": [
      "Setting `pad_token_id` to `eos_token_id`:128001 for open-end generation.\n"
     ]
    },
    {
     "name": "stdout",
     "output_type": "stream",
     "text": [
      "LLM output: sufficiently informative\n",
      "ground truth: insufficiently informative\n",
      "--------------------------------------------------------------------------------------------------------------------------------------------------------------------------------------------------------\n",
      "query:\n",
      "Text: From advertisers about your experiences or interactions with their offerings.\n",
      "label =  \n",
      "\n"
     ]
    },
    {
     "name": "stderr",
     "output_type": "stream",
     "text": [
      "Setting `pad_token_id` to `eos_token_id`:128001 for open-end generation.\n"
     ]
    },
    {
     "name": "stdout",
     "output_type": "stream",
     "text": [
      "LLM output: sufficiently informative\n",
      "ground truth: insufficiently informative\n",
      "--------------------------------------------------------------------------------------------------------------------------------------------------------------------------------------------------------\n",
      "query:\n",
      "Text: When we obtain information from third-parties or other companies, such as those that use our Services.\n",
      "label =  \n",
      "\n"
     ]
    },
    {
     "name": "stderr",
     "output_type": "stream",
     "text": [
      "Setting `pad_token_id` to `eos_token_id`:128001 for open-end generation.\n"
     ]
    },
    {
     "name": "stdout",
     "output_type": "stream",
     "text": [
      "LLM output: sufficiently informative\n",
      "ground truth: insufficiently informative\n",
      "--------------------------------------------------------------------------------------------------------------------------------------------------------------------------------------------------------\n",
      "query:\n",
      "Text: This may include your activity on other sites and apps as well as information those third-parties provide to you or us.\n",
      "label =  \n",
      "\n"
     ]
    },
    {
     "name": "stderr",
     "output_type": "stream",
     "text": [
      "Setting `pad_token_id` to `eos_token_id`:128001 for open-end generation.\n"
     ]
    },
    {
     "name": "stdout",
     "output_type": "stream",
     "text": [
      "LLM output: insufficiently informative\n",
      "ground truth: insufficiently informative\n",
      "--------------------------------------------------------------------------------------------------------------------------------------------------------------------------------------------------------\n",
      "query:\n",
      "Text: General Data\n",
      "label =  \n",
      "\n"
     ]
    },
    {
     "name": "stderr",
     "output_type": "stream",
     "text": [
      "Setting `pad_token_id` to `eos_token_id`:128001 for open-end generation.\n"
     ]
    },
    {
     "name": "stdout",
     "output_type": "stream",
     "text": [
      "LLM output: insufficiently informative\n",
      "ground truth: sufficiently informative\n",
      "--------------------------------------------------------------------------------------------------------------------------------------------------------------------------------------------------------\n",
      "query:\n",
      "Text: Certain categories of information collected by Yahoo are necessary to use our Services, such as the information you must provide when registering for some Services.\n",
      "label =  \n",
      "\n"
     ]
    },
    {
     "name": "stderr",
     "output_type": "stream",
     "text": [
      "Setting `pad_token_id` to `eos_token_id`:128001 for open-end generation.\n"
     ]
    },
    {
     "name": "stdout",
     "output_type": "stream",
     "text": [
      "LLM output: sufficiently informative\n",
      "ground truth: insufficiently informative\n",
      "--------------------------------------------------------------------------------------------------------------------------------------------------------------------------------------------------------\n",
      "query:\n",
      "Text: When you sign up for paid Services, use Services that require your financial information or complete transactions with us or our business partners, we may collect your payment and billing information.\n",
      "label =  \n",
      "\n"
     ]
    },
    {
     "name": "stderr",
     "output_type": "stream",
     "text": [
      "Setting `pad_token_id` to `eos_token_id`:128001 for open-end generation.\n"
     ]
    },
    {
     "name": "stdout",
     "output_type": "stream",
     "text": [
      "LLM output: sufficiently informative\n",
      "ground truth: sufficiently informative\n",
      "--------------------------------------------------------------------------------------------------------------------------------------------------------------------------------------------------------\n",
      "query:\n",
      "Text: Information Collection and Use - General\n",
      "label =  \n",
      "\n"
     ]
    },
    {
     "name": "stderr",
     "output_type": "stream",
     "text": [
      "Setting `pad_token_id` to `eos_token_id`:128001 for open-end generation.\n"
     ]
    },
    {
     "name": "stdout",
     "output_type": "stream",
     "text": [
      "LLM output: I'm not sure what you're referring to.\n",
      "ground truth: insufficiently informative\n",
      "--------------------------------------------------------------------------------------------------------------------------------------------------------------------------------------------------------\n",
      "query:\n",
      "Text: We collect location information from a variety of sources.\n",
      "label =  \n",
      "\n"
     ]
    },
    {
     "name": "stderr",
     "output_type": "stream",
     "text": [
      "Setting `pad_token_id` to `eos_token_id`:128001 for open-end generation.\n"
     ]
    },
    {
     "name": "stdout",
     "output_type": "stream",
     "text": [
      "LLM output: sufficiently informative\n",
      "ground truth: sufficiently informative\n",
      "--------------------------------------------------------------------------------------------------------------------------------------------------------------------------------------------------------\n",
      "query:\n",
      "Text: Categories of Personal Data We Collect about You\n",
      "label =  \n",
      "\n"
     ]
    },
    {
     "name": "stderr",
     "output_type": "stream",
     "text": [
      "Setting `pad_token_id` to `eos_token_id`:128001 for open-end generation.\n"
     ]
    },
    {
     "name": "stdout",
     "output_type": "stream",
     "text": [
      "LLM output: I'm not able to classify the sentence as it\n",
      "ground truth: insufficiently informative\n",
      "--------------------------------------------------------------------------------------------------------------------------------------------------------------------------------------------------------\n",
      "query:\n",
      "Text: Information that can be automatically collected from any device used to access the Site or Services. Such information\n",
      "may include, but is not limited to, your device type; your device’s network connections; your device’s name; your device IP address;\n",
      "information about your device’s web browser and internet connection you use to access the Site or Services; Geolocation Information;\n",
      "information about apps downloaded to your device; and biometric data.\n",
      "label =  \n",
      "\n"
     ]
    },
    {
     "name": "stderr",
     "output_type": "stream",
     "text": [
      "Setting `pad_token_id` to `eos_token_id`:128001 for open-end generation.\n"
     ]
    },
    {
     "name": "stdout",
     "output_type": "stream",
     "text": [
      "LLM output: sufficiently informative\n",
      "ground truth: insufficiently informative\n",
      "--------------------------------------------------------------------------------------------------------------------------------------------------------------------------------------------------------\n",
      "query:\n",
      "Text: We may derive inferences from your transactions and personal data when you use the Services.\n",
      "label =  \n",
      "\n"
     ]
    },
    {
     "name": "stderr",
     "output_type": "stream",
     "text": [
      "Setting `pad_token_id` to `eos_token_id`:128001 for open-end generation.\n"
     ]
    },
    {
     "name": "stdout",
     "output_type": "stream",
     "text": [
      "LLM output: insufficiently informative\n",
      "ground truth: insufficiently informative\n",
      "--------------------------------------------------------------------------------------------------------------------------------------------------------------------------------------------------------\n",
      "query:\n",
      "Text: Inferred data.\n",
      "label =  \n",
      "\n"
     ]
    },
    {
     "name": "stderr",
     "output_type": "stream",
     "text": [
      "Setting `pad_token_id` to `eos_token_id`:128001 for open-end generation.\n"
     ]
    },
    {
     "name": "stdout",
     "output_type": "stream",
     "text": [
      "LLM output: insufficiently informative\n",
      "ground truth: insufficiently informative\n",
      "--------------------------------------------------------------------------------------------------------------------------------------------------------------------------------------------------------\n",
      "query:\n",
      "Text: Depending on the Services you choose, we will collect your name, mailing address, email, income,\n",
      "telephone number, tax ID, Payment Information, profession, employment or business information, and other information necessary to\n",
      "establish an account and use our Services.\n",
      "label =  \n",
      "\n"
     ]
    },
    {
     "name": "stderr",
     "output_type": "stream",
     "text": [
      "Setting `pad_token_id` to `eos_token_id`:128001 for open-end generation.\n"
     ]
    },
    {
     "name": "stdout",
     "output_type": "stream",
     "text": [
      "LLM output: sufficiently informative\n",
      "ground truth: sufficiently informative\n",
      "--------------------------------------------------------------------------------------------------------------------------------------------------------------------------------------------------------\n",
      "query:\n",
      "Text: Depending on the Services you choose, we will collect information to verify your name, address,\n",
      "email, phone number, government- issued identification, age and biometric data as well as to create and issue your electronic signature.\n",
      "label =  \n",
      "\n"
     ]
    },
    {
     "name": "stderr",
     "output_type": "stream",
     "text": [
      "Setting `pad_token_id` to `eos_token_id`:128001 for open-end generation.\n"
     ]
    },
    {
     "name": "stdout",
     "output_type": "stream",
     "text": [
      "LLM output: sufficiently informative\n",
      "ground truth: sufficiently informative\n",
      "--------------------------------------------------------------------------------------------------------------------------------------------------------------------------------------------------------\n",
      "query:\n",
      "Text: Identification and Signature Information.\n",
      "label =  \n",
      "\n"
     ]
    },
    {
     "name": "stderr",
     "output_type": "stream",
     "text": [
      "Setting `pad_token_id` to `eos_token_id`:128001 for open-end generation.\n"
     ]
    },
    {
     "name": "stdout",
     "output_type": "stream",
     "text": [
      "LLM output: sufficiently informative\n",
      "ground truth: sufficiently informative\n",
      "--------------------------------------------------------------------------------------------------------------------------------------------------------------------------------------------------------\n",
      "query:\n",
      "Text: Payment Information.\n",
      "label =  \n",
      "\n"
     ]
    },
    {
     "name": "stderr",
     "output_type": "stream",
     "text": [
      "Setting `pad_token_id` to `eos_token_id`:128001 for open-end generation.\n"
     ]
    },
    {
     "name": "stdout",
     "output_type": "stream",
     "text": [
      "LLM output: sufficiently informative\n",
      "ground truth: sufficiently informative\n",
      "--------------------------------------------------------------------------------------------------------------------------------------------------------------------------------------------------------\n",
      "query:\n",
      "Text: Information such as amount you send or request, your payment instrument, card, or financial or funding account\n",
      "used in connection with the Services, including issuer name, card type, country code, payment account number, CVV, username, and IBAN\n",
      "information.\n",
      "label =  \n",
      "\n"
     ]
    },
    {
     "name": "stderr",
     "output_type": "stream",
     "text": [
      "Setting `pad_token_id` to `eos_token_id`:128001 for open-end generation.\n"
     ]
    },
    {
     "name": "stdout",
     "output_type": "stream",
     "text": [
      "LLM output: sufficiently informative\n",
      "ground truth: sufficiently informative\n",
      "--------------------------------------------------------------------------------------------------------------------------------------------------------------------------------------------------------\n",
      "query:\n",
      "Text: If you choose to import your contact lists, we will collect Information you enter or import\n",
      "about your contacts, such as name, address, phone number, images, email address or usernames associated with the contacts you import\n",
      "or enter manually.\n",
      "label =  \n",
      "\n"
     ]
    },
    {
     "name": "stderr",
     "output_type": "stream",
     "text": [
      "Setting `pad_token_id` to `eos_token_id`:128001 for open-end generation.\n"
     ]
    },
    {
     "name": "stdout",
     "output_type": "stream",
     "text": [
      "LLM output: sufficiently informative\n",
      "ground truth: insufficiently informative\n",
      "--------------------------------------------------------------------------------------------------------------------------------------------------------------------------------------------------------\n",
      "query:\n",
      "Text: Information in your Account Profile.\n",
      "label =  \n",
      "\n"
     ]
    },
    {
     "name": "stderr",
     "output_type": "stream",
     "text": [
      "Setting `pad_token_id` to `eos_token_id`:128001 for open-end generation.\n"
     ]
    },
    {
     "name": "stdout",
     "output_type": "stream",
     "text": [
      "LLM output: sufficiently informative\n",
      "ground truth: insufficiently informative\n",
      "--------------------------------------------------------------------------------------------------------------------------------------------------------------------------------------------------------\n",
      "query:\n",
      "Text: Information you choose to enter such as your username, email, mobile number, profile picture,\n",
      "preferred language, or personal description which may include sensitive Personal Data that reveals religious beliefs, political or\n",
      "philosophical views, disability, sexual orientation as well as biometric data.\n",
      "label =  \n",
      "\n"
     ]
    },
    {
     "name": "stderr",
     "output_type": "stream",
     "text": [
      "Setting `pad_token_id` to `eos_token_id`:128001 for open-end generation.\n"
     ]
    },
    {
     "name": "stdout",
     "output_type": "stream",
     "text": [
      "LLM output: sufficiently informative\n",
      "ground truth: insufficiently informative\n",
      "--------------------------------------------------------------------------------------------------------------------------------------------------------------------------------------------------------\n",
      "query:\n",
      "Text: Information you provide when you contact us.\n",
      "label =  \n",
      "\n"
     ]
    },
    {
     "name": "stderr",
     "output_type": "stream",
     "text": [
      "Setting `pad_token_id` to `eos_token_id`:128001 for open-end generation.\n"
     ]
    },
    {
     "name": "stdout",
     "output_type": "stream",
     "text": [
      "LLM output: sufficiently informative\n",
      "ground truth: sufficiently informative\n",
      "--------------------------------------------------------------------------------------------------------------------------------------------------------------------------------------------------------\n",
      "query:\n",
      "Text: Device Information.\n",
      "label =  \n",
      "\n"
     ]
    },
    {
     "name": "stderr",
     "output_type": "stream",
     "text": [
      "Setting `pad_token_id` to `eos_token_id`:128001 for open-end generation.\n"
     ]
    },
    {
     "name": "stdout",
     "output_type": "stream",
     "text": [
      "LLM output: sufficiently informative\n",
      "ground truth: insufficiently informative\n",
      "--------------------------------------------------------------------------------------------------------------------------------------------------------------------------------------------------------\n",
      "query:\n",
      "Text: Information from Credit Reporting Agencies.\n",
      "label =  \n",
      "\n"
     ]
    },
    {
     "name": "stderr",
     "output_type": "stream",
     "text": [
      "Setting `pad_token_id` to `eos_token_id`:128001 for open-end generation.\n"
     ]
    },
    {
     "name": "stdout",
     "output_type": "stream",
     "text": [
      "LLM output: insufficiently informative\n",
      "ground truth: insufficiently informative\n",
      "--------------------------------------------------------------------------------------------------------------------------------------------------------------------------------------------------------\n",
      "query:\n",
      "Text: Information related to legal requirements.\n",
      "label =  \n",
      "\n"
     ]
    },
    {
     "name": "stderr",
     "output_type": "stream",
     "text": [
      "Setting `pad_token_id` to `eos_token_id`:128001 for open-end generation.\n"
     ]
    },
    {
     "name": "stdout",
     "output_type": "stream",
     "text": [
      "LLM output: sufficiently informative\n",
      "ground truth: sufficiently informative\n",
      "--------------------------------------------------------------------------------------------------------------------------------------------------------------------------------------------------------\n",
      "query:\n",
      "Text: Transaction Information.\n",
      "label =  \n",
      "\n"
     ]
    },
    {
     "name": "stderr",
     "output_type": "stream",
     "text": [
      "Setting `pad_token_id` to `eos_token_id`:128001 for open-end generation.\n"
     ]
    },
    {
     "name": "stdout",
     "output_type": "stream",
     "text": [
      "LLM output: sufficiently informative\n",
      "ground truth: sufficiently informative\n",
      "--------------------------------------------------------------------------------------------------------------------------------------------------------------------------------------------------------\n",
      "query:\n",
      "Text: If you choose to connect non-financial or financial account such as your personal\n",
      "email, social media, or bank or credit accounts, we will collect information consistent with the disclosed purpose for which it was linked.\n",
      "label =  \n",
      "\n"
     ]
    },
    {
     "name": "stderr",
     "output_type": "stream",
     "text": [
      "Setting `pad_token_id` to `eos_token_id`:128001 for open-end generation.\n"
     ]
    },
    {
     "name": "stdout",
     "output_type": "stream",
     "text": [
      "LLM output: sufficiently informative\n",
      "ground truth: insufficiently informative\n",
      "--------------------------------------------------------------------------------------------------------------------------------------------------------------------------------------------------------\n",
      "query:\n",
      "Text: Where permitted by law, we collect credit-related information such as outstanding and\n",
      "historical debt, repayment history, previous credit approvals, current employment relationship, and relationship with other financial\n",
      "institutions within the framework of your use of our Services.\n",
      "label =  \n",
      "\n"
     ]
    },
    {
     "name": "stderr",
     "output_type": "stream",
     "text": [
      "Setting `pad_token_id` to `eos_token_id`:128001 for open-end generation.\n"
     ]
    },
    {
     "name": "stdout",
     "output_type": "stream",
     "text": [
      "LLM output: sufficiently informative\n",
      "ground truth: insufficiently informative\n",
      "--------------------------------------------------------------------------------------------------------------------------------------------------------------------------------------------------------\n",
      "query:\n",
      "Text: Consistent with applicable law (such as anti-money laundering laws), this may include\n",
      "information from external sanction lists such as name, date of birth, place of birth, occupation, and the reason why the person is on the\n",
      "list in question.\n",
      "label =  \n",
      "\n"
     ]
    },
    {
     "name": "stderr",
     "output_type": "stream",
     "text": [
      "Setting `pad_token_id` to `eos_token_id`:128001 for open-end generation.\n"
     ]
    },
    {
     "name": "stdout",
     "output_type": "stream",
     "text": [
      "LLM output: sufficiently informative\n",
      "ground truth: sufficiently informative\n",
      "--------------------------------------------------------------------------------------------------------------------------------------------------------------------------------------------------------\n",
      "query:\n",
      "Text: Information from others from your use of third-party applications, such as the Apple App Store or Google Play\n",
      "Store, social networking sites, such as name, your social network ID, Location Information, email, device ID, browser ID, and profile picture.\n",
      "label =  \n",
      "\n"
     ]
    },
    {
     "name": "stderr",
     "output_type": "stream",
     "text": [
      "Setting `pad_token_id` to `eos_token_id`:128001 for open-end generation.\n"
     ]
    },
    {
     "name": "stdout",
     "output_type": "stream",
     "text": [
      "LLM output: sufficiently informative\n",
      "ground truth: insufficiently informative\n",
      "--------------------------------------------------------------------------------------------------------------------------------------------------------------------------------------------------------\n",
      "query:\n",
      "Text: Information from your device.\n",
      "label =  \n",
      "\n"
     ]
    },
    {
     "name": "stderr",
     "output_type": "stream",
     "text": [
      "Setting `pad_token_id` to `eos_token_id`:128001 for open-end generation.\n"
     ]
    },
    {
     "name": "stdout",
     "output_type": "stream",
     "text": [
      "LLM output: insufficiently informative\n",
      "ground truth: insufficiently informative\n",
      "--------------------------------------------------------------------------------------------------------------------------------------------------------------------------------------------------------\n",
      "query:\n",
      "Text: Inferred data.\n",
      "label =  \n",
      "\n"
     ]
    },
    {
     "name": "stderr",
     "output_type": "stream",
     "text": [
      "Setting `pad_token_id` to `eos_token_id`:128001 for open-end generation.\n"
     ]
    },
    {
     "name": "stdout",
     "output_type": "stream",
     "text": [
      "LLM output: insufficiently informative\n",
      "ground truth: insufficiently informative\n",
      "--------------------------------------------------------------------------------------------------------------------------------------------------------------------------------------------------------\n",
      "query:\n",
      "Text: Information about response time for web pages, download errors and date and time when you used the service, such\n",
      "as your IP address, statistics regarding how pages are loaded or viewed, the websites you visited before coming to the Sites and other\n",
      "usage and browsing information collected through Cookies (“Technical Usage Data”).\n",
      "label =  \n",
      "\n"
     ]
    },
    {
     "name": "stderr",
     "output_type": "stream",
     "text": [
      "Setting `pad_token_id` to `eos_token_id`:128001 for open-end generation.\n"
     ]
    },
    {
     "name": "stdout",
     "output_type": "stream",
     "text": [
      "LLM output: sufficiently informative\n",
      "ground truth: insufficiently informative\n",
      "--------------------------------------------------------------------------------------------------------------------------------------------------------------------------------------------------------\n",
      "query:\n",
      "Text: Inferences drawn to create a profile about you that may reflect behavior patterns and personal preferences, such as gender,\n",
      "income, browsing and purchasing habits, and creditworthiness.\n",
      "label =  \n",
      "\n"
     ]
    },
    {
     "name": "stderr",
     "output_type": "stream",
     "text": [
      "Setting `pad_token_id` to `eos_token_id`:128001 for open-end generation.\n"
     ]
    },
    {
     "name": "stdout",
     "output_type": "stream",
     "text": [
      "LLM output: sufficiently informative\n",
      "ground truth: insufficiently informative\n",
      "--------------------------------------------------------------------------------------------------------------------------------------------------------------------------------------------------------\n",
      "query:\n",
      "Text: Information from IP-based geolocation such as latitude and longitude data, and Global Positioning System (GPS)\n",
      "information when you give us permission through your device settings.\n",
      "label =  \n",
      "\n"
     ]
    },
    {
     "name": "stderr",
     "output_type": "stream",
     "text": [
      "Setting `pad_token_id` to `eos_token_id`:128001 for open-end generation.\n"
     ]
    },
    {
     "name": "stdout",
     "output_type": "stream",
     "text": [
      "LLM output: sufficiently informative\n",
      "ground truth: sufficiently informative\n",
      "--------------------------------------------------------------------------------------------------------------------------------------------------------------------------------------------------------\n",
      "query:\n",
      "Text: Categories of Personal Data automatically collected about you, including through your access to our website or mobile app, from cookies\n",
      "and similar tracking technologies, and your devices:\n",
      "Technical Usage Data.\n",
      "label =  \n",
      "\n"
     ]
    },
    {
     "name": "stderr",
     "output_type": "stream",
     "text": [
      "Setting `pad_token_id` to `eos_token_id`:128001 for open-end generation.\n"
     ]
    },
    {
     "name": "stdout",
     "output_type": "stream",
     "text": [
      "LLM output: insufficiently informative\n",
      "ground truth: insufficiently informative\n",
      "--------------------------------------------------------------------------------------------------------------------------------------------------------------------------------------------------------\n",
      "query:\n",
      "Text: Categories of Personal Data collected from you, including from your interactions with us and use of the Services:\n",
      "Registration and Contact Information.\n",
      "label =  \n",
      "\n"
     ]
    },
    {
     "name": "stderr",
     "output_type": "stream",
     "text": [
      "Setting `pad_token_id` to `eos_token_id`:128001 for open-end generation.\n"
     ]
    },
    {
     "name": "stdout",
     "output_type": "stream",
     "text": [
      "LLM output: sufficiently informative\n",
      "ground truth: sufficiently informative\n",
      "--------------------------------------------------------------------------------------------------------------------------------------------------------------------------------------------------------\n",
      "query:\n",
      "Text: Categories of Personal Data collected from third parties, including from identity verification vendors, data brokers, vendors that help us\n",
      "with fraud detection, your bank, merchants or third party platforms you engage with using our Services:\n",
      "Information from your connected third party accounts\n",
      "label =  \n",
      "\n"
     ]
    },
    {
     "name": "stderr",
     "output_type": "stream",
     "text": [
      "Setting `pad_token_id` to `eos_token_id`:128001 for open-end generation.\n"
     ]
    },
    {
     "name": "stdout",
     "output_type": "stream",
     "text": [
      "LLM output: sufficiently informative\n",
      "ground truth: insufficiently informative\n",
      "--------------------------------------------------------------------------------------------------------------------------------------------------------------------------------------------------------\n",
      "query:\n",
      "Text: We collect your information when you interact with us or use our services, such as when you use our Sites to place an order.\n",
      "label =  \n",
      "\n"
     ]
    },
    {
     "name": "stderr",
     "output_type": "stream",
     "text": [
      "Setting `pad_token_id` to `eos_token_id`:128001 for open-end generation.\n"
     ]
    },
    {
     "name": "stdout",
     "output_type": "stream",
     "text": [
      "LLM output: sufficiently informative\n",
      "ground truth: insufficiently informative\n",
      "--------------------------------------------------------------------------------------------------------------------------------------------------------------------------------------------------------\n",
      "query:\n",
      "Text: We also look at how visitors use our Sites, to help us improve our services and optimise customer experience.\n",
      "label =  \n",
      "\n"
     ]
    },
    {
     "name": "stderr",
     "output_type": "stream",
     "text": [
      "Setting `pad_token_id` to `eos_token_id`:128001 for open-end generation.\n"
     ]
    },
    {
     "name": "stdout",
     "output_type": "stream",
     "text": [
      "LLM output: insufficiently informative\n",
      "ground truth: insufficiently informative\n",
      "--------------------------------------------------------------------------------------------------------------------------------------------------------------------------------------------------------\n",
      "query:\n",
      "Text: Information We Collect From You\n",
      "label =  \n",
      "\n"
     ]
    },
    {
     "name": "stderr",
     "output_type": "stream",
     "text": [
      "Setting `pad_token_id` to `eos_token_id`:128001 for open-end generation.\n"
     ]
    },
    {
     "name": "stdout",
     "output_type": "stream",
     "text": [
      "LLM output: I'm not able to classify the sentence as it\n",
      "ground truth: insufficiently informative\n",
      "--------------------------------------------------------------------------------------------------------------------------------------------------------------------------------------------------------\n",
      "query:\n",
      "Text: When you visit the Sites or make a Deliveroo order through the Sites, including any partner’s website we work with to provide delivery services, you are asked for information about yourself including your name, contact details, delivery address, order details, loyalty scheme details where applicable, and payment information such as credit or debit card details.\n",
      "label =  \n",
      "\n"
     ]
    },
    {
     "name": "stderr",
     "output_type": "stream",
     "text": [
      "Setting `pad_token_id` to `eos_token_id`:128001 for open-end generation.\n"
     ]
    },
    {
     "name": "stdout",
     "output_type": "stream",
     "text": [
      "LLM output: sufficiently informative\n",
      "ground truth: sufficiently informative\n",
      "--------------------------------------------------------------------------------------------------------------------------------------------------------------------------------------------------------\n",
      "query:\n",
      "Text: We will also collect information from you when you contact our riders using the chat function on our Sites.\n",
      "label =  \n",
      "\n"
     ]
    },
    {
     "name": "stderr",
     "output_type": "stream",
     "text": [
      "Setting `pad_token_id` to `eos_token_id`:128001 for open-end generation.\n"
     ]
    },
    {
     "name": "stdout",
     "output_type": "stream",
     "text": [
      "LLM output: sufficiently informative\n",
      "ground truth: sufficiently informative\n",
      "--------------------------------------------------------------------------------------------------------------------------------------------------------------------------------------------------------\n",
      "query:\n",
      "Text: We will also collect your date of birth to verify your age when you purchase age restricted items.\n",
      "label =  \n",
      "\n"
     ]
    },
    {
     "name": "stderr",
     "output_type": "stream",
     "text": [
      "Setting `pad_token_id` to `eos_token_id`:128001 for open-end generation.\n"
     ]
    },
    {
     "name": "stdout",
     "output_type": "stream",
     "text": [
      "LLM output: sufficiently informative\n",
      "ground truth: sufficiently informative\n",
      "--------------------------------------------------------------------------------------------------------------------------------------------------------------------------------------------------------\n",
      "query:\n",
      "Text: We collect information about your use of the Sites and information about you from any messages you post to the Sites or when you contact us or provide us with feedback, including via email, post, phone or chat function.\n",
      "label =  \n",
      "\n"
     ]
    },
    {
     "name": "stderr",
     "output_type": "stream",
     "text": [
      "Setting `pad_token_id` to `eos_token_id`:128001 for open-end generation.\n"
     ]
    },
    {
     "name": "stdout",
     "output_type": "stream",
     "text": [
      "LLM output: sufficiently informative\n",
      "ground truth: insufficiently informative\n",
      "--------------------------------------------------------------------------------------------------------------------------------------------------------------------------------------------------------\n",
      "query:\n",
      "Text: If you contact us by phone, we record and make notes about the call, including for training and service improvement purposes.\n",
      "label =  \n",
      "\n"
     ]
    },
    {
     "name": "stderr",
     "output_type": "stream",
     "text": [
      "Setting `pad_token_id` to `eos_token_id`:128001 for open-end generation.\n"
     ]
    },
    {
     "name": "stdout",
     "output_type": "stream",
     "text": [
      "LLM output: sufficiently informative\n",
      "ground truth: sufficiently informative\n",
      "--------------------------------------------------------------------------------------------------------------------------------------------------------------------------------------------------------\n",
      "query:\n",
      "Text: If you make a complaint we may request a photograph of your order showing the problem, if it is something that can be seen by inspecting the items.\n",
      "label =  \n",
      "\n"
     ]
    },
    {
     "name": "stderr",
     "output_type": "stream",
     "text": [
      "Setting `pad_token_id` to `eos_token_id`:128001 for open-end generation.\n"
     ]
    },
    {
     "name": "stdout",
     "output_type": "stream",
     "text": [
      "LLM output: sufficiently informative\n",
      "ground truth: sufficiently informative\n",
      "--------------------------------------------------------------------------------------------------------------------------------------------------------------------------------------------------------\n",
      "query:\n",
      "Text: We collect information from your mobile device or computer, such as its operating system, the device and connection type and the IP address from which you are accessing our Sites.\n",
      "label =  \n",
      "\n"
     ]
    },
    {
     "name": "stderr",
     "output_type": "stream",
     "text": [
      "Setting `pad_token_id` to `eos_token_id`:128001 for open-end generation.\n"
     ]
    },
    {
     "name": "stdout",
     "output_type": "stream",
     "text": [
      "LLM output: sufficiently informative\n",
      "ground truth: insufficiently informative\n",
      "--------------------------------------------------------------------------------------------------------------------------------------------------------------------------------------------------------\n",
      "query:\n",
      "Text: We also collect technical information about your use of our services through a mobile device, for example, carrier, location data and performance data such as mobile payment methods, interaction with other retail technology such as use of NFC Tags, QR Codes and/or use of mobile vouchers.\n",
      "label =  \n",
      "\n"
     ]
    },
    {
     "name": "stderr",
     "output_type": "stream",
     "text": [
      "Setting `pad_token_id` to `eos_token_id`:128001 for open-end generation.\n"
     ]
    },
    {
     "name": "stdout",
     "output_type": "stream",
     "text": [
      "LLM output: sufficiently informative\n",
      "ground truth: sufficiently informative\n",
      "--------------------------------------------------------------------------------------------------------------------------------------------------------------------------------------------------------\n",
      "query:\n",
      "Text: We process health information about you only where you volunteer and consent to this, for example if you report any specific food allergies after placing an order.\n",
      "label =  \n",
      "\n"
     ]
    },
    {
     "name": "stderr",
     "output_type": "stream",
     "text": [
      "Setting `pad_token_id` to `eos_token_id`:128001 for open-end generation.\n"
     ]
    },
    {
     "name": "stdout",
     "output_type": "stream",
     "text": [
      "LLM output: sufficiently informative\n",
      "ground truth: insufficiently informative\n",
      "--------------------------------------------------------------------------------------------------------------------------------------------------------------------------------------------------------\n",
      "query:\n",
      "Text: What Information We Collect\n",
      "label =  \n",
      "\n"
     ]
    },
    {
     "name": "stderr",
     "output_type": "stream",
     "text": [
      "Setting `pad_token_id` to `eos_token_id`:128001 for open-end generation.\n"
     ]
    },
    {
     "name": "stdout",
     "output_type": "stream",
     "text": [
      "LLM output: I'm not sure what the text is. Please\n",
      "ground truth: insufficiently informative\n",
      "--------------------------------------------------------------------------------------------------------------------------------------------------------------------------------------------------------\n",
      "query:\n",
      "Text: When you interact with any third party service (such as third party apps, websites or products) that integrate TikTok Developer Tools, we will receive the information necessary to provide you with features like cross-service authentication or cross-posting.\n",
      "label =  \n",
      "\n"
     ]
    },
    {
     "name": "stderr",
     "output_type": "stream",
     "text": [
      "Setting `pad_token_id` to `eos_token_id`:128001 for open-end generation.\n"
     ]
    },
    {
     "name": "stdout",
     "output_type": "stream",
     "text": [
      "LLM output: sufficiently informative\n",
      "ground truth: insufficiently informative\n",
      "--------------------------------------------------------------------------------------------------------------------------------------------------------------------------------------------------------\n",
      "query:\n",
      "Text: We may also receive information from third party providers which we use for safety purposes, including to protect users on the Platform and for content moderation.\n",
      "label =  \n",
      "\n"
     ]
    },
    {
     "name": "stderr",
     "output_type": "stream",
     "text": [
      "Setting `pad_token_id` to `eos_token_id`:128001 for open-end generation.\n"
     ]
    },
    {
     "name": "stdout",
     "output_type": "stream",
     "text": [
      "LLM output: insufficiently informative\n",
      "ground truth: insufficiently informative\n",
      "--------------------------------------------------------------------------------------------------------------------------------------------------------------------------------------------------------\n",
      "query:\n",
      "Text: We may collect or receive information about you from organisations, businesses, people, and others, including, for example, publicly available sources, government authorities, professional organisations, and charity groups.\n",
      "label =  \n",
      "\n"
     ]
    },
    {
     "name": "stderr",
     "output_type": "stream",
     "text": [
      "Setting `pad_token_id` to `eos_token_id`:128001 for open-end generation.\n"
     ]
    },
    {
     "name": "stdout",
     "output_type": "stream",
     "text": [
      "LLM output: sufficiently informative\n",
      "ground truth: insufficiently informative\n",
      "--------------------------------------------------------------------------------------------------------------------------------------------------------------------------------------------------------\n",
      "query:\n",
      "Text: If you consent during the creation of an account, we will process your User Data listed below in order to be able to provide our services.\n",
      "label =  \n",
      "\n"
     ]
    },
    {
     "name": "stderr",
     "output_type": "stream",
     "text": [
      "Setting `pad_token_id` to `eos_token_id`:128001 for open-end generation.\n"
     ]
    },
    {
     "name": "stdout",
     "output_type": "stream",
     "text": [
      "LLM output: insufficiently informative\n",
      "ground truth: insufficiently informative\n",
      "--------------------------------------------------------------------------------------------------------------------------------------------------------------------------------------------------------\n",
      "query:\n",
      "Text: Information From Other Sources\n",
      "label =  \n",
      "\n"
     ]
    },
    {
     "name": "stderr",
     "output_type": "stream",
     "text": [
      "Setting `pad_token_id` to `eos_token_id`:128001 for open-end generation.\n"
     ]
    },
    {
     "name": "stdout",
     "output_type": "stream",
     "text": [
      "LLM output: insufficiently informative\n",
      "ground truth: insufficiently informative\n",
      "--------------------------------------------------------------------------------------------------------------------------------------------------------------------------------------------------------\n",
      "query:\n",
      "Text: What information does Adobe collect about me?\n",
      "label =  \n",
      "\n"
     ]
    },
    {
     "name": "stderr",
     "output_type": "stream",
     "text": [
      "Setting `pad_token_id` to `eos_token_id`:128001 for open-end generation.\n"
     ]
    },
    {
     "name": "stdout",
     "output_type": "stream",
     "text": [
      "LLM output: sufficiently informative\n",
      "ground truth: insufficiently informative\n",
      "--------------------------------------------------------------------------------------------------------------------------------------------------------------------------------------------------------\n",
      "query:\n",
      "Text: When you register to use an Adobe Service, create an Adobe ID, purchase a licence to our Services and Software or contact us for support or other offerings, Adobe collects information that identifies you.\n",
      "label =  \n",
      "\n"
     ]
    },
    {
     "name": "stderr",
     "output_type": "stream",
     "text": [
      "Setting `pad_token_id` to `eos_token_id`:128001 for open-end generation.\n"
     ]
    },
    {
     "name": "stdout",
     "output_type": "stream",
     "text": [
      "LLM output: sufficiently informative\n",
      "ground truth: insufficiently informative\n",
      "--------------------------------------------------------------------------------------------------------------------------------------------------------------------------------------------------------\n",
      "query:\n",
      "Text: This includes:\n",
      " \n",
      "Identifiers and contact information, such as:\n",
      "Name;\n",
      "Email address;\n",
      "Telephone number;\n",
      "Postal or Physical Address;\n",
      "Country;\n",
      " \n",
      "Commercial and transaction information, such as:\n",
      "Payment/billing information (where an app or website is 'paid for');\n",
      "Licences purchased;\n",
      "Eligibility information (e.g., student or teacher identification for student and teacher editions of apps);\n",
      "Content of and information provided through customer support and other communications (e.g., recorded customer and technical support calls and stored content of your correspondence with us via our website, chat features, phone and video calls, emails and other channels);\n",
      "Types of Services and Software of interest.\n",
      "label =  \n",
      "\n"
     ]
    },
    {
     "name": "stderr",
     "output_type": "stream",
     "text": [
      "Setting `pad_token_id` to `eos_token_id`:128001 for open-end generation.\n"
     ]
    },
    {
     "name": "stdout",
     "output_type": "stream",
     "text": [
      "LLM output: sufficiently informative\n",
      "ground truth: sufficiently informative\n",
      "--------------------------------------------------------------------------------------------------------------------------------------------------------------------------------------------------------\n",
      "query:\n",
      "Text: Professional, education or other demographic information, such as:\n",
      "Date of birth;\n",
      "Company or school name;\n",
      "Title;\n",
      "Occupation;\n",
      "Job function;\n",
      "Expertise;\n",
      "Company details, such as the size, industry and other information about the company where a user may work (when the user has provided the company name);\n",
      " \n",
      "Analytics or other electronic network activity, such as: \n",
      "IP address;\n",
      "Browser;\n",
      "Mobile Device ID;\n",
      "Browser extensions connected to your Adobe accounts.\n",
      "label =  \n",
      "\n"
     ]
    },
    {
     "name": "stderr",
     "output_type": "stream",
     "text": [
      "Setting `pad_token_id` to `eos_token_id`:128001 for open-end generation.\n"
     ]
    },
    {
     "name": "stdout",
     "output_type": "stream",
     "text": [
      "LLM output: sufficiently informative\n",
      "ground truth: insufficiently informative\n",
      "--------------------------------------------------------------------------------------------------------------------------------------------------------------------------------------------------------\n",
      "query:\n",
      "Text: Inferred Information\n",
      "label =  \n",
      "\n"
     ]
    },
    {
     "name": "stderr",
     "output_type": "stream",
     "text": [
      "Setting `pad_token_id` to `eos_token_id`:128001 for open-end generation.\n"
     ]
    },
    {
     "name": "stdout",
     "output_type": "stream",
     "text": [
      "LLM output: insufficiently informative\n",
      "ground truth: insufficiently informative\n",
      "--------------------------------------------------------------------------------------------------------------------------------------------------------------------------------------------------------\n",
      "query:\n",
      "Text: For example, the size, industry and other information about the company you work for (where you have provided company name) will be obtained from sources including, professional networking sites and information service providers\n",
      "label =  \n",
      "\n"
     ]
    },
    {
     "name": "stderr",
     "output_type": "stream",
     "text": [
      "Setting `pad_token_id` to `eos_token_id`:128001 for open-end generation.\n"
     ]
    },
    {
     "name": "stdout",
     "output_type": "stream",
     "text": [
      "LLM output: sufficiently informative\n",
      "ground truth: insufficiently informative\n",
      "--------------------------------------------------------------------------------------------------------------------------------------------------------------------------------------------------------\n",
      "query:\n",
      "Text: We collect information you provide to us (e.g., when you access and use our Services and Software) or permit us to collect (e.g., as part of a third-party integration).\n",
      "label =  \n",
      "\n"
     ]
    },
    {
     "name": "stderr",
     "output_type": "stream",
     "text": [
      "Setting `pad_token_id` to `eos_token_id`:128001 for open-end generation.\n"
     ]
    },
    {
     "name": "stdout",
     "output_type": "stream",
     "text": [
      "LLM output: sufficiently informative\n",
      "ground truth: insufficiently informative\n",
      "--------------------------------------------------------------------------------------------------------------------------------------------------------------------------------------------------------\n",
      "query:\n",
      "Text: We also collect or generate information about how you access and use our Services and Software, including when you use a desktop or mobile app feature that takes you online (such as a photo syncing feature).\n",
      "label =  \n",
      "\n"
     ]
    },
    {
     "name": "stderr",
     "output_type": "stream",
     "text": [
      "Setting `pad_token_id` to `eos_token_id`:128001 for open-end generation.\n"
     ]
    },
    {
     "name": "stdout",
     "output_type": "stream",
     "text": [
      "LLM output: sufficiently informative\n",
      "ground truth: insufficiently informative\n",
      "--------------------------------------------------------------------------------------------------------------------------------------------------------------------------------------------------------\n",
      "query:\n",
      "Text: Professional, Education or other demographic information, such as:\n",
      "Profile information (e.g., account profile, public profile, Behance profile).\n",
      "label =  \n",
      "\n"
     ]
    },
    {
     "name": "stderr",
     "output_type": "stream",
     "text": [
      "Setting `pad_token_id` to `eos_token_id`:128001 for open-end generation.\n"
     ]
    },
    {
     "name": "stdout",
     "output_type": "stream",
     "text": [
      "LLM output: sufficiently informative\n",
      "ground truth: insufficiently informative\n",
      "--------------------------------------------------------------------------------------------------------------------------------------------------------------------------------------------------------\n",
      "query:\n",
      "Text: It includes:\n",
      " \n",
      "Analytics or other electronic network activity, such as:\n",
      "IP address;\n",
      "Browser and device information, including browser and device type, settings, unique identifiers, version, language settings and configuration;\n",
      "Webpage that led you to an Adobe website;\n",
      "Search terms entered into a search engine which led you to an Adobe website;\n",
      "Use and navigation of Services and Software, including how you interact with Adobe websites (collected through cookies and similar technologies or by Adobe servers when you are logged into the app or website);\n",
      "Analysis of your use and navigation of the Services and Software as well as your content\n",
      "label =  \n",
      "\n"
     ]
    },
    {
     "name": "stderr",
     "output_type": "stream",
     "text": [
      "Setting `pad_token_id` to `eos_token_id`:128001 for open-end generation.\n"
     ]
    },
    {
     "name": "stdout",
     "output_type": "stream",
     "text": [
      "LLM output: sufficiently informative\n",
      "ground truth: insufficiently informative\n",
      "--------------------------------------------------------------------------------------------------------------------------------------------------------------------------------------------------------\n",
      "query:\n",
      "Text: Sensitive personal information, such as:\n",
      "Biometric identifiers or information as defined under US laws (e.g., faceprints and voiceprints from your user Content, as defined in the Adobe General Terms of Use) and precise geolocation.\n",
      "label =  \n",
      "\n"
     ]
    },
    {
     "name": "stderr",
     "output_type": "stream",
     "text": [
      "Setting `pad_token_id` to `eos_token_id`:128001 for open-end generation.\n"
     ]
    },
    {
     "name": "stdout",
     "output_type": "stream",
     "text": [
      "LLM output: sufficiently informative\n",
      "ground truth: insufficiently informative\n",
      "--------------------------------------------------------------------------------------------------------------------------------------------------------------------------------------------------------\n",
      "query:\n",
      "Text: Commercial and transaction information, such as:\n",
      "Content that includes personal information which is sent or received using an online feature of Adobe Services and Software or which is stored on Adobe servers, such as documents, photos, videos, activity logs, direct feedback from you, metadata about your content, user generated requests such as search terms, prompts (e.g., text, images, videos, audio etc.), enquiries, feedback and other information you may disclose when you access or use our Services and Software as well as any information the Services and Software returns in response to such requests.\n",
      "label =  \n",
      "\n"
     ]
    },
    {
     "name": "stderr",
     "output_type": "stream",
     "text": [
      "Setting `pad_token_id` to `eos_token_id`:128001 for open-end generation.\n"
     ]
    },
    {
     "name": "stdout",
     "output_type": "stream",
     "text": [
      "LLM output: sufficiently informative\n",
      "ground truth: insufficiently informative\n",
      "--------------------------------------------------------------------------------------------------------------------------------------------------------------------------------------------------------\n",
      "query:\n",
      "Text: When you activate your Adobe Software or when you install updates to the Software, we collect analytics or other electronic network activity information, such as: your device (manufacturer, model, IP address);\n",
      "the Adobe Software (version, date of activation, successful and unsuccessful updates);\n",
      "your product serial number (e.g., where this is required before you can start using your product).\n",
      "label =  \n",
      "\n"
     ]
    },
    {
     "name": "stderr",
     "output_type": "stream",
     "text": [
      "Setting `pad_token_id` to `eos_token_id`:128001 for open-end generation.\n"
     ]
    },
    {
     "name": "stdout",
     "output_type": "stream",
     "text": [
      "LLM output: sufficiently informative\n",
      "ground truth: insufficiently informative\n",
      "--------------------------------------------------------------------------------------------------------------------------------------------------------------------------------------------------------\n",
      "query:\n",
      "Text: Emails we send you may include a technology (called a web beacon) that collects Analytics or other electronic network activity, such as whether you have received or opened the email or clicked a link in the email.\n",
      "label =  \n",
      "\n"
     ]
    },
    {
     "name": "stderr",
     "output_type": "stream",
     "text": [
      "Setting `pad_token_id` to `eos_token_id`:128001 for open-end generation.\n"
     ]
    },
    {
     "name": "stdout",
     "output_type": "stream",
     "text": [
      "LLM output: sufficiently informative\n",
      "ground truth: insufficiently informative\n",
      "--------------------------------------------------------------------------------------------------------------------------------------------------------------------------------------------------------\n",
      "query:\n",
      "Text: We collect Analytics or other electronic network activity information such as:\n",
      " \n",
      "Which ads are displayed;\n",
      "Which ads are clicked; and \n",
      "Where the ad was displayed.\n",
      "label =  \n",
      "\n"
     ]
    },
    {
     "name": "stderr",
     "output_type": "stream",
     "text": [
      "Setting `pad_token_id` to `eos_token_id`:128001 for open-end generation.\n"
     ]
    },
    {
     "name": "stdout",
     "output_type": "stream",
     "text": [
      "LLM output: sufficiently informative\n",
      "ground truth: insufficiently informative\n",
      "--------------------------------------------------------------------------------------------------------------------------------------------------------------------------------------------------------\n",
      "query:\n",
      "Text: When you visit an Adobe office, we will collect Identifiers and Contact information such as your name, company name and email address; and Audio, electronic, visual or similar information including facial images and voice information such as from CCTV video or voice recordings and photos.\n",
      "label =  \n",
      "\n"
     ]
    },
    {
     "name": "stderr",
     "output_type": "stream",
     "text": [
      "Setting `pad_token_id` to `eos_token_id`:128001 for open-end generation.\n"
     ]
    },
    {
     "name": "stdout",
     "output_type": "stream",
     "text": [
      "LLM output: sufficiently informative\n",
      "ground truth: insufficiently informative\n",
      "--------------------------------------------------------------------------------------------------------------------------------------------------------------------------------------------------------\n",
      "query:\n",
      "Text: In addition, when you see or interact with these buttons, tools or content or view an Adobe web page or app containing them, some information from your browser may automatically be sent to the other company.\n",
      "label =  \n",
      "\n"
     ]
    },
    {
     "name": "stderr",
     "output_type": "stream",
     "text": [
      "Setting `pad_token_id` to `eos_token_id`:128001 for open-end generation.\n"
     ]
    },
    {
     "name": "stdout",
     "output_type": "stream",
     "text": [
      "LLM output: sufficiently informative\n",
      "ground truth: insufficiently informative\n",
      "--------------------------------------------------------------------------------------------------------------------------------------------------------------------------------------------------------\n",
      "query:\n",
      "Text: We may collect information about your use of these features, such as content “liked” and address information in Google Maps.\n",
      "label =  \n",
      "\n"
     ]
    },
    {
     "name": "stderr",
     "output_type": "stream",
     "text": [
      "Setting `pad_token_id` to `eos_token_id`:128001 for open-end generation.\n"
     ]
    },
    {
     "name": "stdout",
     "output_type": "stream",
     "text": [
      "LLM output: sufficiently informative\n",
      "ground truth: insufficiently informative\n",
      "--------------------------------------------------------------------------------------------------------------------------------------------------------------------------------------------------------\n",
      "query:\n",
      "Text: Enterprise collects hardware and software information, such as device and application data and sends it to Google for purposes of providing, maintaining and improving reCAPTCHA Enterprise and for general security purposes.\n",
      "label =  \n",
      "\n"
     ]
    },
    {
     "name": "stderr",
     "output_type": "stream",
     "text": [
      "Setting `pad_token_id` to `eos_token_id`:128001 for open-end generation.\n"
     ]
    },
    {
     "name": "stdout",
     "output_type": "stream",
     "text": [
      "LLM output: sufficiently informative\n",
      "ground truth: insufficiently informative\n",
      "--------------------------------------------------------------------------------------------------------------------------------------------------------------------------------------------------------\n",
      "query:\n",
      "Text: Where you give appropriate permissions, we will receive contact and identifier information about you from your social networking account, such as name, country and basic demographic information.\n",
      "label =  \n",
      "\n"
     ]
    },
    {
     "name": "stderr",
     "output_type": "stream",
     "text": [
      "Setting `pad_token_id` to `eos_token_id`:128001 for open-end generation.\n"
     ]
    },
    {
     "name": "stdout",
     "output_type": "stream",
     "text": [
      "LLM output: sufficiently informative\n",
      "ground truth: insufficiently informative\n",
      "--------------------------------------------------------------------------------------------------------------------------------------------------------------------------------------------------------\n",
      "query:\n",
      "Text: In certain instances, Adobe is acting only on your behalf for personal information collected and processed by our services (for example, for the address book contacts shared by users when entering recipient information).\n",
      "label =  \n",
      "\n"
     ]
    },
    {
     "name": "stderr",
     "output_type": "stream",
     "text": [
      "Setting `pad_token_id` to `eos_token_id`:128001 for open-end generation.\n"
     ]
    },
    {
     "name": "stdout",
     "output_type": "stream",
     "text": [
      "LLM output: sufficiently informative\n",
      "ground truth: insufficiently informative\n",
      "--------------------------------------------------------------------------------------------------------------------------------------------------------------------------------------------------------\n",
      "query:\n",
      "Text: We will collect information which you have made publicly available on your social networking account, such as name and interests in our products and services, when you interact with our social networking pages.\n",
      "label =  \n",
      "\n"
     ]
    },
    {
     "name": "stderr",
     "output_type": "stream",
     "text": [
      "Setting `pad_token_id` to `eos_token_id`:128001 for open-end generation.\n"
     ]
    },
    {
     "name": "stdout",
     "output_type": "stream",
     "text": [
      "LLM output: sufficiently informative\n",
      "ground truth: insufficiently informative\n",
      "--------------------------------------------------------------------------------------------------------------------------------------------------------------------------------------------------------\n",
      "query:\n",
      "Text: Adobe offers certain features that let you edit and organise your photographs, videos and other types of content using characteristics like face and voice (e.g., you can group similar faces, places and image characteristics within your collection) and such characteristics may be considered biometric identifiers or biometric information under certain US laws or other applicable privacy laws.\n",
      "label =  \n",
      "\n"
     ]
    },
    {
     "name": "stderr",
     "output_type": "stream",
     "text": [
      "Setting `pad_token_id` to `eos_token_id`:128001 for open-end generation.\n"
     ]
    },
    {
     "name": "stdout",
     "output_type": "stream",
     "text": [
      "LLM output: sufficiently informative\n",
      "ground truth: insufficiently informative\n",
      "--------------------------------------------------------------------------------------------------------------------------------------------------------------------------------------------------------\n",
      "query:\n",
      "Text: Information You Provide\n",
      "label =  \n",
      "\n"
     ]
    },
    {
     "name": "stderr",
     "output_type": "stream",
     "text": [
      "Setting `pad_token_id` to `eos_token_id`:128001 for open-end generation.\n"
     ]
    },
    {
     "name": "stdout",
     "output_type": "stream",
     "text": [
      "LLM output: I'm not sure what the text is. Please\n",
      "ground truth: insufficiently informative\n",
      "--------------------------------------------------------------------------------------------------------------------------------------------------------------------------------------------------------\n",
      "query:\n",
      "Text: Profile Information.\n",
      "label =  \n",
      "\n"
     ]
    },
    {
     "name": "stderr",
     "output_type": "stream",
     "text": [
      "Setting `pad_token_id` to `eos_token_id`:128001 for open-end generation.\n"
     ]
    },
    {
     "name": "stdout",
     "output_type": "stream",
     "text": [
      "LLM output: sufficiently informative\n",
      "ground truth: insufficiently informative\n",
      "--------------------------------------------------------------------------------------------------------------------------------------------------------------------------------------------------------\n",
      "query:\n",
      "Text: When you use our Services to communicate with others or post, upload or store content (such as comments, photos, voice inputs, videos, emails, messaging services and attachments).\n",
      "label =  \n",
      "\n"
     ]
    },
    {
     "name": "stderr",
     "output_type": "stream",
     "text": [
      "Setting `pad_token_id` to `eos_token_id`:128001 for open-end generation.\n"
     ]
    },
    {
     "name": "stdout",
     "output_type": "stream",
     "text": [
      "LLM output: sufficiently informative\n",
      "ground truth: insufficiently informative\n",
      "--------------------------------------------------------------------------------------------------------------------------------------------------------------------------------------------------------\n",
      "query:\n",
      "Text: Even if you are not a user, information about you may appear in content created or published by users on the Platform\n",
      "label =  \n",
      "\n"
     ]
    },
    {
     "name": "stderr",
     "output_type": "stream",
     "text": [
      "Setting `pad_token_id` to `eos_token_id`:128001 for open-end generation.\n"
     ]
    },
    {
     "name": "stdout",
     "output_type": "stream",
     "text": [
      "LLM output: insufficiently informative\n",
      "ground truth: insufficiently informative\n",
      "--------------------------------------------------------------------------------------------------------------------------------------------------------------------------------------------------------\n",
      "query:\n",
      "Text: We collect the Information You Provide when you fill in a form on the Platform.\n",
      "label =  \n",
      "\n"
     ]
    },
    {
     "name": "stderr",
     "output_type": "stream",
     "text": [
      "Setting `pad_token_id` to `eos_token_id`:128001 for open-end generation.\n"
     ]
    },
    {
     "name": "stdout",
     "output_type": "stream",
     "text": [
      "LLM output: sufficiently informative\n",
      "ground truth: insufficiently informative\n",
      "--------------------------------------------------------------------------------------------------------------------------------------------------------------------------------------------------------\n",
      "query:\n",
      "Text: We also collect service-related, diagnostic, and performance information, including crash reports and performance logs.\n",
      "label =  \n",
      "\n"
     ]
    },
    {
     "name": "stderr",
     "output_type": "stream",
     "text": [
      "Setting `pad_token_id` to `eos_token_id`:128001 for open-end generation.\n"
     ]
    },
    {
     "name": "stdout",
     "output_type": "stream",
     "text": [
      "LLM output: insufficiently informative\n",
      "ground truth: insufficiently informative\n",
      "--------------------------------------------------------------------------------------------------------------------------------------------------------------------------------------------------------\n",
      "query:\n",
      "Text: Content Characteristics and Features\n",
      "label =  \n",
      "\n"
     ]
    },
    {
     "name": "stderr",
     "output_type": "stream",
     "text": [
      "Setting `pad_token_id` to `eos_token_id`:128001 for open-end generation.\n"
     ]
    },
    {
     "name": "stdout",
     "output_type": "stream",
     "text": [
      "LLM output: insufficiently informative\n",
      "ground truth: insufficiently informative\n",
      "--------------------------------------------------------------------------------------------------------------------------------------------------------------------------------------------------------\n",
      "query:\n",
      "Text: We receive information about you from merchants as well as payment and transaction fulfillment providers, such as payment confirmation details, and information about the delivery of products you have purchased through our shopping features.\n",
      "label =  \n",
      "\n"
     ]
    },
    {
     "name": "stderr",
     "output_type": "stream",
     "text": [
      "Setting `pad_token_id` to `eos_token_id`:128001 for open-end generation.\n"
     ]
    },
    {
     "name": "stdout",
     "output_type": "stream",
     "text": [
      "LLM output: sufficiently informative\n",
      "ground truth: insufficiently informative\n",
      "--------------------------------------------------------------------------------------------------------------------------------------------------------------------------------------------------------\n",
      "query:\n",
      "Text: We also collect information about you where you are included or mentioned in User Content, Direct Messages, in a complaint, appeal, request or feedback submitted by a user or third party, or if your contact information is provided to us by a user.\n",
      "label =  \n",
      "\n"
     ]
    },
    {
     "name": "stderr",
     "output_type": "stream",
     "text": [
      "Setting `pad_token_id` to `eos_token_id`:128001 for open-end generation.\n"
     ]
    },
    {
     "name": "stdout",
     "output_type": "stream",
     "text": [
      "LLM output: sufficiently informative\n",
      "ground truth: insufficiently informative\n",
      "--------------------------------------------------------------------------------------------------------------------------------------------------------------------------------------------------------\n",
      "query:\n",
      "Text: Information about your language settings, IP address, browser ID, device ID, cookie preferences, time zone,\n",
      "operating system, platform, screen resolution and similar information about your device settings, and data collected from cookies or other\n",
      "tracking technologies,\n",
      "label =  \n",
      "\n"
     ]
    },
    {
     "name": "stderr",
     "output_type": "stream",
     "text": [
      "Setting `pad_token_id` to `eos_token_id`:128001 for open-end generation.\n"
     ]
    },
    {
     "name": "stdout",
     "output_type": "stream",
     "text": [
      "LLM output: sufficiently informative\n",
      "ground truth: insufficiently informative\n",
      "--------------------------------------------------------------------------------------------------------------------------------------------------------------------------------------------------------\n",
      "query:\n",
      "Text: Location Information.\n",
      "label =  \n",
      "\n"
     ]
    },
    {
     "name": "stderr",
     "output_type": "stream",
     "text": [
      "Setting `pad_token_id` to `eos_token_id`:128001 for open-end generation.\n"
     ]
    },
    {
     "name": "stdout",
     "output_type": "stream",
     "text": [
      "LLM output: sufficiently informative\n",
      "ground truth: sufficiently informative\n",
      "--------------------------------------------------------------------------------------------------------------------------------------------------------------------------------------------------------\n",
      "query:\n",
      "Text: Information about your order details and purchases, such as item description, quantity, price, currency, shipping\n",
      "address, online shopping cart information, seller and buyer information, and Payment Information.\n",
      "label =  \n",
      "\n"
     ]
    },
    {
     "name": "stderr",
     "output_type": "stream",
     "text": [
      "Setting `pad_token_id` to `eos_token_id`:128001 for open-end generation.\n"
     ]
    },
    {
     "name": "stdout",
     "output_type": "stream",
     "text": [
      "LLM output: sufficiently informative\n",
      "ground truth: sufficiently informative\n",
      "--------------------------------------------------------------------------------------------------------------------------------------------------------------------------------------------------------\n",
      "query:\n",
      "Text: This includes information from your\n",
      "transactions where you use our Services without a PayPal account (e.g. Guest checkout).\n",
      "label =  \n",
      "\n"
     ]
    },
    {
     "name": "stderr",
     "output_type": "stream",
     "text": [
      "Setting `pad_token_id` to `eos_token_id`:128001 for open-end generation.\n"
     ]
    },
    {
     "name": "stdout",
     "output_type": "stream",
     "text": [
      "LLM output: insufficiently informative\n",
      "ground truth: sufficiently informative\n",
      "--------------------------------------------------------------------------------------------------------------------------------------------------------------------------------------------------------\n",
      "query:\n",
      "Text: We may collect and combine information when you interact with Yahoo Services information outlined below:\n",
      "\n",
      "Information You Provide to Us.\n",
      "label =  \n",
      "\n"
     ]
    },
    {
     "name": "stderr",
     "output_type": "stream",
     "text": [
      "Setting `pad_token_id` to `eos_token_id`:128001 for open-end generation.\n"
     ]
    },
    {
     "name": "stdout",
     "output_type": "stream",
     "text": [
      "LLM output: sufficiently informative\n",
      "ground truth: insufficiently informative\n",
      "--------------------------------------------------------------------------------------------------------------------------------------------------------------------------------------------------------\n",
      "query:\n",
      "Text: We may collect the information that you provide to us, such as:\n",
      "\n",
      "When you create an account with a Yahoo Service or brand.\n",
      "label =  \n",
      "\n"
     ]
    },
    {
     "name": "stderr",
     "output_type": "stream",
     "text": [
      "Setting `pad_token_id` to `eos_token_id`:128001 for open-end generation.\n"
     ]
    },
    {
     "name": "stdout",
     "output_type": "stream",
     "text": [
      "LLM output: sufficiently informative\n",
      "ground truth: insufficiently informative\n",
      "--------------------------------------------------------------------------------------------------------------------------------------------------------------------------------------------------------\n",
      "query:\n",
      "Text: Information about your imported contacts.\n",
      "label =  \n",
      "\n"
     ]
    },
    {
     "name": "stderr",
     "output_type": "stream",
     "text": [
      "Setting `pad_token_id` to `eos_token_id`:128001 for open-end generation.\n"
     ]
    },
    {
     "name": "stdout",
     "output_type": "stream",
     "text": [
      "LLM output: sufficiently informative\n",
      "ground truth: insufficiently informative\n",
      "--------------------------------------------------------------------------------------------------------------------------------------------------------------------------------------------------------\n",
      "query:\n",
      "Text: Information you disclose when you respond to surveys, or contact our customer support\n",
      "teams, such as Services you have used, recorded conversations, chat conversations with us, email correspondence with us, account status,\n",
      "repayment history, voice identification.\n",
      "label =  \n",
      "\n"
     ]
    },
    {
     "name": "stderr",
     "output_type": "stream",
     "text": [
      "Setting `pad_token_id` to `eos_token_id`:128001 for open-end generation.\n"
     ]
    },
    {
     "name": "stdout",
     "output_type": "stream",
     "text": [
      "LLM output: sufficiently informative\n",
      "ground truth: sufficiently informative\n",
      "--------------------------------------------------------------------------------------------------------------------------------------------------------------------------------------------------------\n",
      "query:\n",
      "Text: This may include information about others if you choose to share it with us.\n",
      "label =  \n",
      "\n"
     ]
    },
    {
     "name": "stderr",
     "output_type": "stream",
     "text": [
      "Setting `pad_token_id` to `eos_token_id`:128001 for open-end generation.\n"
     ]
    },
    {
     "name": "stdout",
     "output_type": "stream",
     "text": [
      "LLM output: insufficiently informative\n",
      "ground truth: sufficiently informative\n",
      "--------------------------------------------------------------------------------------------------------------------------------------------------------------------------------------------------------\n",
      "query:\n",
      "Text: For example, if you choose to participate in Open Banking, we will collect account credentials, account balances, account transactions, and\n",
      "information about your financial standing from your linked accounts\n",
      "label =  \n",
      "\n"
     ]
    },
    {
     "name": "stderr",
     "output_type": "stream",
     "text": [
      "Setting `pad_token_id` to `eos_token_id`:128001 for open-end generation.\n"
     ]
    },
    {
     "name": "stdout",
     "output_type": "stream",
     "text": [
      "LLM output: sufficiently informative\n",
      "ground truth: insufficiently informative\n",
      "--------------------------------------------------------------------------------------------------------------------------------------------------------------------------------------------------------\n",
      "query:\n",
      "Text: This optional data is collected and processed in order to store and retain necessary financial information in case you make a purchase, as well as to improve our app experience for you.\n",
      "label =  \n",
      "\n",
      "LLM output: sufficiently informative\n",
      "ground truth: insufficiently informative\n",
      "--------------------------------------------------------------------------------------------------------------------------------------------------------------------------------------------------------\n",
      "lv2 F1: 0.3552631578947369\n",
      "lv1 F1: 0.42944785276073627\n",
      "macro F1: 0.39235550532773655\n"
     ]
    }
   ],
   "source": [
    "test(template, 5)"
   ]
  },
  {
   "cell_type": "code",
   "execution_count": null,
   "metadata": {},
   "outputs": [],
   "source": []
  }
 ],
 "metadata": {
  "kernelspec": {
   "display_name": "Python 3",
   "language": "python",
   "name": "python3"
  },
  "language_info": {
   "codemirror_mode": {
    "name": "ipython",
    "version": 3
   },
   "file_extension": ".py",
   "mimetype": "text/x-python",
   "name": "python",
   "nbconvert_exporter": "python",
   "pygments_lexer": "ipython3",
   "version": "3.11.9"
  }
 },
 "nbformat": 4,
 "nbformat_minor": 2
}
